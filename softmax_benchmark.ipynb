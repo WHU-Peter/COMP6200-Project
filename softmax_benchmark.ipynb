{
  "nbformat": 4,
  "nbformat_minor": 0,
  "metadata": {
    "colab": {
      "name": "softmax_benchmark.ipynb",
      "provenance": [],
      "authorship_tag": "ABX9TyPZaCBRv4uXvALvbaTvO85N",
      "include_colab_link": true
    },
    "kernelspec": {
      "display_name": "Python 3",
      "name": "python3"
    },
    "language_info": {
      "name": "python"
    },
    "accelerator": "GPU"
  },
  "cells": [
    {
      "cell_type": "markdown",
      "metadata": {
        "id": "view-in-github",
        "colab_type": "text"
      },
      "source": [
        "<a href=\"https://colab.research.google.com/github/WHU-Peter/COMP6200-Project/blob/main/softmax_benchmark.ipynb\" target=\"_parent\"><img src=\"https://colab.research.google.com/assets/colab-badge.svg\" alt=\"Open In Colab\"/></a>"
      ]
    },
    {
      "cell_type": "code",
      "metadata": {
        "colab": {
          "base_uri": "https://localhost:8080/"
        },
        "id": "tkZduTHahSHt",
        "outputId": "95ba0b3f-334b-4505-9464-f142c06ba9ef"
      },
      "source": [
        "! /opt/bin/nvidia-smi"
      ],
      "execution_count": 27,
      "outputs": [
        {
          "output_type": "stream",
          "text": [
            "Sat Aug 21 23:38:12 2021       \n",
            "+-----------------------------------------------------------------------------+\n",
            "| NVIDIA-SMI 460.32.03    Driver Version: 460.32.03    CUDA Version: 11.2     |\n",
            "|-------------------------------+----------------------+----------------------+\n",
            "| GPU  Name        Persistence-M| Bus-Id        Disp.A | Volatile Uncorr. ECC |\n",
            "| Fan  Temp  Perf  Pwr:Usage/Cap|         Memory-Usage | GPU-Util  Compute M. |\n",
            "|                               |                      |               MIG M. |\n",
            "|===============================+======================+======================|\n",
            "|   0  Tesla P100-PCIE...  Off  | 00000000:00:04.0 Off |                    0 |\n",
            "| N/A   38C    P0    34W / 250W |   1723MiB / 16280MiB |      0%      Default |\n",
            "|                               |                      |                  N/A |\n",
            "+-------------------------------+----------------------+----------------------+\n",
            "                                                                               \n",
            "+-----------------------------------------------------------------------------+\n",
            "| Processes:                                                                  |\n",
            "|  GPU   GI   CI        PID   Type   Process name                  GPU Memory |\n",
            "|        ID   ID                                                   Usage      |\n",
            "|=============================================================================|\n",
            "+-----------------------------------------------------------------------------+\n"
          ],
          "name": "stdout"
        }
      ]
    },
    {
      "cell_type": "code",
      "metadata": {
        "id": "M_KuXXQLqyGR"
      },
      "source": [
        "import torch\n",
        "import timeit\n",
        "import torch.nn as nn\n",
        "import torch.nn.functional as F\n",
        "import torch.utils.benchmark as benchmark\n",
        "\n",
        "# fix random seed for reproducibility\n",
        "# seed = 7\n",
        "# torch.manual_seed(seed)\n",
        "# torch.backends.cudnn.deterministic = True\n",
        "# torch.backends.cudnn.benchmark = True\n",
        "# import numpy as np\n",
        "# np.random.seed(seed)\n",
        "\n",
        "device = \"cuda:0\" if torch.cuda.is_available() else \"cpu\""
      ],
      "execution_count": 28,
      "outputs": []
    },
    {
      "cell_type": "markdown",
      "metadata": {
        "id": "1_D3-OORzcJ9"
      },
      "source": [
        "cpu"
      ]
    },
    {
      "cell_type": "code",
      "metadata": {
        "colab": {
          "base_uri": "https://localhost:8080/"
        },
        "id": "8q1O-2gSzaKZ",
        "outputId": "b1bc8bdf-d1d6-4811-96d4-156c5d74481c"
      },
      "source": [
        "def matrix_multiplication(x, y):\n",
        "  return x @ y\n",
        "\n",
        "def softmax(x, y):\n",
        "  pro = F.softmax(x/0.001, dim=-1)\n",
        "  nozero = torch.nonzero(pro);\n",
        "  out = np.zeros((x.shape[0], y.shape[1]))\n",
        "  out = torch.tensor(out)\n",
        "  # print(np.array(nozero).shape[1])\n",
        "  for i in range(x.shape[0]):\n",
        "    idx = torch.where(nozero[:,0]==i)[0]\n",
        "    rows = nozero[idx, 1].long()\n",
        "    out[i] = torch.mean(emb(rows), axis=0)\n",
        "    return out.float()\n",
        "\n",
        "# Compare takes a list of measurements which we'll save in results.\n",
        "results = []\n",
        "\n",
        "batch_size = 16\n",
        "target_dim = 1000\n",
        "hidden_dim = [10, 100, 500, 1000, 5000, 10000, 15000, 20000, 50000]\n",
        "for h in hidden_dim:\n",
        "    # label and sub_label are the rows\n",
        "    # description is the column\n",
        "    label = 'Batched Matrix Multipication and SoftMax'\n",
        "    sub_label = f'[{h}]'\n",
        "    x = torch.randn((batch_size, h))\n",
        "    y = torch.randn((h, target_dim))\n",
        "    emb = nn.Embedding(h, target_dim)\n",
        "    results.append(benchmark.Timer(\n",
        "            stmt='matrix_multiplication(x, y)',\n",
        "            setup='from __main__ import matrix_multiplication',\n",
        "            globals={'x': x, 'y' : y},\n",
        "            label=label,\n",
        "            sub_label=sub_label,\n",
        "            description='matrix_multiplication',\n",
        "    ).blocked_autorange(min_run_time=1))\n",
        "    results.append(benchmark.Timer(\n",
        "            stmt='softmax(x, y)',\n",
        "            setup='from __main__ import softmax',\n",
        "            globals={'x': x, 'y' : y},\n",
        "            label=label,\n",
        "            sub_label=sub_label,\n",
        "            description='softmax_look-up_table',\n",
        "    ).blocked_autorange(min_run_time=1))\n",
        "\n",
        "compare = benchmark.Compare(results)\n",
        "compare.print()"
      ],
      "execution_count": 29,
      "outputs": [
        {
          "output_type": "stream",
          "text": [
            "[----------- Batched Matrix Multipication and SoftMax ----------]\n",
            "               |  matrix_multiplication  |  softmax_look-up_table\n",
            "1 threads: ------------------------------------------------------\n",
            "      [10]     |             5.9         |           113.4       \n",
            "      [100]    |            30.5         |           127.2       \n",
            "      [500]    |           153.7         |           176.6       \n",
            "      [1000]   |           317.5         |           245.7       \n",
            "      [5000]   |          1531.0         |           811.2       \n",
            "      [10000]  |          4546.8         |          1526.0       \n",
            "      [15000]  |          8827.8         |          2228.6       \n",
            "      [20000]  |         13780.9         |          3035.4       \n",
            "      [50000]  |         36299.0         |          6601.2       \n",
            "\n",
            "Times are in microseconds (us).\n",
            "\n"
          ],
          "name": "stdout"
        }
      ]
    },
    {
      "cell_type": "markdown",
      "metadata": {
        "id": "Ox-t48rCzdeX"
      },
      "source": [
        "gpu"
      ]
    },
    {
      "cell_type": "code",
      "metadata": {
        "colab": {
          "base_uri": "https://localhost:8080/"
        },
        "id": "BU-gOa4fcak4",
        "outputId": "6d8f5630-6021-47ab-9cd7-7230841590e4"
      },
      "source": [
        "def matrix_multiplication(x, y):\n",
        "  return x @ y\n",
        "\n",
        "def softmax(x, y):\n",
        "  pro = F.softmax(x/0.001, dim=-1)\n",
        "  nozero = torch.nonzero(pro);\n",
        "  out = torch.zeros((x.shape[0], y.shape[1]))\n",
        "  out = torch.tensor(out)\n",
        "  # print(np.array(nozero).shape[1])\n",
        "  for i in range(x.shape[0]):\n",
        "    idx = torch.where(nozero[:,0]==i)[0]\n",
        "    rows = nozero[idx, 1].long()\n",
        "    out[i] = torch.mean(emb(rows), axis=0)\n",
        "    return out.float()\n",
        "\n",
        "# Compare takes a list of measurements which we'll save in results.\n",
        "results = []\n",
        "\n",
        "batch_size = 16\n",
        "target_dim = 1000\n",
        "hidden_dim = [10, 100, 500, 1000, 5000, 10000, 15000, 20000, 50000]\n",
        "for h in hidden_dim:\n",
        "    # label and sub_label are the rows\n",
        "    # description is the column\n",
        "    label = 'Batched Matrix Multipication and SoftMax'\n",
        "    sub_label = f'[{h}]'\n",
        "    x = torch.randn((batch_size, h)).to(device)\n",
        "    y = torch.randn((h, target_dim)).to(device)\n",
        "    emb = nn.Embedding(h, target_dim).to(device)\n",
        "    torch.cuda.empty_cache()\n",
        "    results.append(benchmark.Timer(\n",
        "            stmt='matrix_multiplication(x, y)',\n",
        "            setup='from __main__ import matrix_multiplication',\n",
        "            globals={'x': x, 'y' : y},\n",
        "            label=label,\n",
        "            sub_label=sub_label,\n",
        "            description='matrix_multiplication',\n",
        "    ).blocked_autorange(min_run_time=1))\n",
        "    torch.cuda.empty_cache()\n",
        "    results.append(benchmark.Timer(\n",
        "            stmt='softmax(x, y)',\n",
        "            setup='from __main__ import softmax',\n",
        "            globals={'x': x, 'y' : y},\n",
        "            label=label,\n",
        "            sub_label=sub_label,\n",
        "            description='softmax_look-up_table',\n",
        "    ).blocked_autorange(min_run_time=1))\n",
        "    torch.cuda.empty_cache()\n",
        "\n",
        "compare = benchmark.Compare(results)\n",
        "compare.print()"
      ],
      "execution_count": 30,
      "outputs": [
        {
          "output_type": "stream",
          "text": [
            "/usr/local/lib/python3.7/dist-packages/ipykernel_launcher.py:8: UserWarning: To copy construct from a tensor, it is recommended to use sourceTensor.clone().detach() or sourceTensor.clone().detach().requires_grad_(True), rather than torch.tensor(sourceTensor).\n",
            "  \n"
          ],
          "name": "stderr"
        },
        {
          "output_type": "stream",
          "text": [
            "[----------- Batched Matrix Multipication and SoftMax ----------]\n",
            "               |  matrix_multiplication  |  softmax_look-up_table\n",
            "1 threads: ------------------------------------------------------\n",
            "      [10]     |             6.9         |          250.3        \n",
            "      [100]    |             6.7         |          250.3        \n",
            "      [500]    |            15.5         |          252.0        \n",
            "      [1000]   |            34.2         |          260.9        \n",
            "      [5000]   |           157.7         |          260.0        \n",
            "      [10000]  |           308.9         |          269.4        \n",
            "      [15000]  |           459.4         |          280.7        \n",
            "      [20000]  |           610.4         |          279.0        \n",
            "      [50000]  |          1519.4         |          336.7        \n",
            "\n",
            "Times are in microseconds (us).\n",
            "\n"
          ],
          "name": "stdout"
        }
      ]
    }
  ]
}