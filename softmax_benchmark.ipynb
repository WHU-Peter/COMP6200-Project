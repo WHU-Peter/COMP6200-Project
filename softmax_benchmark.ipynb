{
  "nbformat": 4,
  "nbformat_minor": 0,
  "metadata": {
    "colab": {
      "name": "softmax_benchmark.ipynb",
      "provenance": [],
      "authorship_tag": "ABX9TyO/4OYzH7bjXXab1WpwO7C3",
      "include_colab_link": true
    },
    "kernelspec": {
      "display_name": "Python 3",
      "name": "python3"
    },
    "language_info": {
      "name": "python"
    },
    "accelerator": "GPU"
  },
  "cells": [
    {
      "cell_type": "markdown",
      "metadata": {
        "id": "view-in-github",
        "colab_type": "text"
      },
      "source": [
        "<a href=\"https://colab.research.google.com/github/WHU-Peter/COMP6200-Project/blob/main/softmax_benchmark.ipynb\" target=\"_parent\"><img src=\"https://colab.research.google.com/assets/colab-badge.svg\" alt=\"Open In Colab\"/></a>"
      ]
    },
    {
      "cell_type": "code",
      "metadata": {
        "colab": {
          "base_uri": "https://localhost:8080/"
        },
        "id": "tkZduTHahSHt",
        "outputId": "95ba0b3f-334b-4505-9464-f142c06ba9ef"
      },
      "source": [
        "! /opt/bin/nvidia-smi"
      ],
      "execution_count": 27,
      "outputs": [
        {
          "output_type": "stream",
          "text": [
            "Sat Aug 21 23:38:12 2021       \n",
            "+-----------------------------------------------------------------------------+\n",
            "| NVIDIA-SMI 460.32.03    Driver Version: 460.32.03    CUDA Version: 11.2     |\n",
            "|-------------------------------+----------------------+----------------------+\n",
            "| GPU  Name        Persistence-M| Bus-Id        Disp.A | Volatile Uncorr. ECC |\n",
            "| Fan  Temp  Perf  Pwr:Usage/Cap|         Memory-Usage | GPU-Util  Compute M. |\n",
            "|                               |                      |               MIG M. |\n",
            "|===============================+======================+======================|\n",
            "|   0  Tesla P100-PCIE...  Off  | 00000000:00:04.0 Off |                    0 |\n",
            "| N/A   38C    P0    34W / 250W |   1723MiB / 16280MiB |      0%      Default |\n",
            "|                               |                      |                  N/A |\n",
            "+-------------------------------+----------------------+----------------------+\n",
            "                                                                               \n",
            "+-----------------------------------------------------------------------------+\n",
            "| Processes:                                                                  |\n",
            "|  GPU   GI   CI        PID   Type   Process name                  GPU Memory |\n",
            "|        ID   ID                                                   Usage      |\n",
            "|=============================================================================|\n",
            "+-----------------------------------------------------------------------------+\n"
          ],
          "name": "stdout"
        }
      ]
    },
    {
      "cell_type": "code",
      "metadata": {
        "id": "M_KuXXQLqyGR"
      },
      "source": [
        "import torch\n",
        "import timeit\n",
        "import torch.nn as nn\n",
        "import torch.nn.functional as F\n",
        "import torch.utils.benchmark as benchmark\n",
        "from itertools import product\n",
        "\n",
        "device = \"cuda:0\" if torch.cuda.is_available() else \"cpu\""
      ],
      "execution_count": 33,
      "outputs": []
    },
    {
      "cell_type": "markdown",
      "metadata": {
        "id": "1_D3-OORzcJ9"
      },
      "source": [
        "cpu"
      ]
    },
    {
      "cell_type": "code",
      "metadata": {
        "colab": {
          "base_uri": "https://localhost:8080/"
        },
        "id": "8q1O-2gSzaKZ",
        "outputId": "ed1f2a9a-b9b0-4026-b740-3f38e6d38c7f"
      },
      "source": [
        "def matrix_multiplication(x, y):\n",
        "  return x @ y\n",
        "\n",
        "def softmax(x, y):\n",
        "  pro = F.softmax(x/0.001, dim=-1)\n",
        "  nozero = torch.nonzero(pro);\n",
        "  out = np.zeros((x.shape[0], y.shape[1]))\n",
        "  out = torch.tensor(out)\n",
        "  # print(np.array(nozero).shape[1])\n",
        "  for i in range(x.shape[0]):\n",
        "    idx = torch.where(nozero[:,0]==i)[0]\n",
        "    rows = nozero[idx, 1].long()\n",
        "    out[i] = torch.mean(emb(rows), axis=0)\n",
        "    return out.float()\n",
        "\n",
        "# Compare takes a list of measurements which we'll save in results.\n",
        "results = []\n",
        "\n",
        "batch_size = 16\n",
        "target_dim = [100, 500, 1000, 5000]\n",
        "hidden_dim = [100, 500, 1000, 5000, 10000, 15000, 20000, 50000]\n",
        "for h, t in product(hidden_dim, target_dim):\n",
        "    # label and sub_label are the rows\n",
        "    # description is the column\n",
        "    label = 'Batched Matrix Multipication and SoftMax'\n",
        "    sub_label = f'[{h}, {t}]'\n",
        "    x = torch.randn((batch_size, h))\n",
        "    y = torch.randn((h, t))\n",
        "    emb = nn.Embedding(h, t)\n",
        "    results.append(benchmark.Timer(\n",
        "            stmt='matrix_multiplication(x, y)',\n",
        "            setup='from __main__ import matrix_multiplication',\n",
        "            globals={'x': x, 'y' : y},\n",
        "            label=label,\n",
        "            sub_label=sub_label,\n",
        "            description='matrix_multiplication',\n",
        "    ).blocked_autorange(min_run_time=1))\n",
        "    results.append(benchmark.Timer(\n",
        "            stmt='softmax(x, y)',\n",
        "            setup='from __main__ import softmax',\n",
        "            globals={'x': x, 'y' : y},\n",
        "            label=label,\n",
        "            sub_label=sub_label,\n",
        "            description='softmax_look-up_table',\n",
        "    ).blocked_autorange(min_run_time=1))\n",
        "\n",
        "compare = benchmark.Compare(results)\n",
        "compare.print()"
      ],
      "execution_count": 34,
      "outputs": [
        {
          "output_type": "stream",
          "text": [
            "[-------------- Batched Matrix Multipication and SoftMax -------------]\n",
            "                     |  matrix_multiplication  |  softmax_look-up_table\n",
            "1 threads: ------------------------------------------------------------\n",
            "      [100, 100]     |              5.7        |           108.8       \n",
            "      [100, 500]     |             16.0        |           124.4       \n",
            "      [100, 1000]    |             26.9        |           130.3       \n",
            "      [100, 5000]    |            189.2        |           489.4       \n",
            "      [500, 100]     |             16.6        |           160.2       \n",
            "      [500, 500]     |             70.7        |           170.1       \n",
            "      [500, 1000]    |            153.5        |           189.1       \n",
            "      [500, 5000]    |            771.8        |           466.4       \n",
            "      [1000, 100]    |             29.4        |           223.6       \n",
            "      [1000, 500]    |            150.2        |           224.1       \n",
            "      [1000, 1000]   |            301.0        |           244.0       \n",
            "      [1000, 5000]   |           1568.5        |           601.6       \n",
            "      [5000, 100]    |            177.8        |          1043.7       \n",
            "      [5000, 500]    |            861.3        |           812.0       \n",
            "      [5000, 1000]   |           1558.0        |           930.6       \n",
            "      [5000, 5000]   |          15439.0        |          1131.2       \n",
            "      [10000, 100]   |            425.0        |          1504.1       \n",
            "      [10000, 500]   |           1524.6        |          1463.5       \n",
            "      [10000, 1000]  |           4637.9        |          1594.1       \n",
            "      [10000, 5000]  |          33646.8        |          1795.3       \n",
            "      [15000, 100]   |            559.5        |          2155.9       \n",
            "      [15000, 500]   |           2632.9        |          2204.5       \n",
            "      [15000, 1000]  |           8782.1        |          2246.3       \n",
            "      [15000, 5000]  |          52523.5        |          2470.5       \n",
            "      [20000, 100]   |            730.7        |          2796.9       \n",
            "      [20000, 500]   |           4713.2        |          2714.1       \n",
            "      [20000, 1000]  |          12738.8        |          2750.4       \n",
            "      [20000, 5000]  |          69604.7        |          2995.6       \n",
            "      [50000, 100]   |           1857.1        |         22944.7       \n",
            "      [50000, 500]   |          16753.7        |          6475.1       \n",
            "      [50000, 1000]  |          35996.5        |          6596.2       \n",
            "      [50000, 5000]  |         177861.0        |          6862.6       \n",
            "\n",
            "Times are in microseconds (us).\n",
            "\n"
          ],
          "name": "stdout"
        }
      ]
    },
    {
      "cell_type": "markdown",
      "metadata": {
        "id": "Ox-t48rCzdeX"
      },
      "source": [
        "gpu"
      ]
    },
    {
      "cell_type": "code",
      "metadata": {
        "colab": {
          "base_uri": "https://localhost:8080/"
        },
        "id": "BU-gOa4fcak4",
        "outputId": "452a3add-b786-446f-87bb-ea18f5812f7f"
      },
      "source": [
        "def matrix_multiplication(x, y):\n",
        "  return x @ y\n",
        "\n",
        "def softmax(x, y):\n",
        "  pro = F.softmax(x/0.001, dim=-1)\n",
        "  nozero = torch.nonzero(pro);\n",
        "  out = torch.zeros((x.shape[0], y.shape[1]))\n",
        "  out = torch.tensor(out)\n",
        "  # print(np.array(nozero).shape[1])\n",
        "  for i in range(x.shape[0]):\n",
        "    idx = torch.where(nozero[:,0]==i)[0]\n",
        "    rows = nozero[idx, 1].long()\n",
        "    out[i] = torch.mean(emb(rows), axis=0)\n",
        "    return out.float()\n",
        "\n",
        "# Compare takes a list of measurements which we'll save in results.\n",
        "results = []\n",
        "\n",
        "batch_size = 16\n",
        "target_dim = [100, 500, 1000, 5000]\n",
        "hidden_dim = [100, 500, 1000, 5000, 10000, 15000, 20000, 50000]\n",
        "for h, t in product(hidden_dim, target_dim):\n",
        "    # label and sub_label are the rows\n",
        "    # description is the column\n",
        "    label = 'Batched Matrix Multipication and SoftMax'\n",
        "    sub_label = f'[{h}, {t}]'\n",
        "    x = torch.randn((batch_size, h)).to(device)\n",
        "    y = torch.randn((h, t)).to(device)\n",
        "    emb = nn.Embedding(h, t).to(device)\n",
        "    torch.cuda.empty_cache()\n",
        "    results.append(benchmark.Timer(\n",
        "            stmt='matrix_multiplication(x, y)',\n",
        "            setup='from __main__ import matrix_multiplication',\n",
        "            globals={'x': x, 'y' : y},\n",
        "            label=label,\n",
        "            sub_label=sub_label,\n",
        "            description='matrix_multiplication',\n",
        "    ).blocked_autorange(min_run_time=1))\n",
        "    torch.cuda.empty_cache()\n",
        "    results.append(benchmark.Timer(\n",
        "            stmt='softmax(x, y)',\n",
        "            setup='from __main__ import softmax',\n",
        "            globals={'x': x, 'y' : y},\n",
        "            label=label,\n",
        "            sub_label=sub_label,\n",
        "            description='softmax_look-up_table',\n",
        "    ).blocked_autorange(min_run_time=1))\n",
        "    torch.cuda.empty_cache()\n",
        "\n",
        "compare = benchmark.Compare(results)\n",
        "compare.print()"
      ],
      "execution_count": 37,
      "outputs": [
        {
          "output_type": "stream",
          "text": [
            "/usr/local/lib/python3.7/dist-packages/ipykernel_launcher.py:8: UserWarning: To copy construct from a tensor, it is recommended to use sourceTensor.clone().detach() or sourceTensor.clone().detach().requires_grad_(True), rather than torch.tensor(sourceTensor).\n",
            "  \n"
          ],
          "name": "stderr"
        },
        {
          "output_type": "stream",
          "text": [
            "[-------------- Batched Matrix Multipication and SoftMax -------------]\n",
            "                     |  matrix_multiplication  |  softmax_look-up_table\n",
            "1 threads: ------------------------------------------------------------\n",
            "      [100, 100]     |             7.2         |          241.7        \n",
            "      [100, 500]     |             7.0         |          251.1        \n",
            "      [100, 1000]    |             7.0         |          253.1        \n",
            "      [100, 5000]    |            10.3         |          512.3        \n",
            "      [500, 100]     |            15.4         |          245.8        \n",
            "      [500, 500]     |            15.4         |          249.0        \n",
            "      [500, 1000]    |            15.5         |          268.3        \n",
            "      [500, 5000]    |            33.0         |          501.8        \n",
            "      [1000, 100]    |            27.7         |          253.9        \n",
            "      [1000, 500]    |            27.7         |          262.6        \n",
            "      [1000, 1000]   |            32.8         |          274.1        \n",
            "      [1000, 5000]   |            58.9         |          510.1        \n",
            "      [5000, 100]    |            64.2         |          254.1        \n",
            "      [5000, 500]    |           106.3         |          258.4        \n",
            "      [5000, 1000]   |           157.3         |          272.0        \n",
            "      [5000, 5000]   |           250.3         |          516.3        \n",
            "      [10000, 100]   |           193.5         |          261.6        \n",
            "      [10000, 500]   |           207.2         |          278.3        \n",
            "      [10000, 1000]  |           308.7         |          276.9        \n",
            "      [10000, 5000]  |           489.0         |          517.0        \n",
            "      [15000, 100]   |           289.2         |          265.2        \n",
            "      [15000, 500]   |           304.3         |          272.7        \n",
            "      [15000, 1000]  |           459.7         |          277.3        \n",
            "      [15000, 5000]  |           730.5         |          537.9        \n",
            "      [20000, 100]   |            99.5         |          275.5        \n",
            "      [20000, 500]   |           226.5         |          283.1        \n",
            "      [20000, 1000]  |           610.7         |          285.3        \n",
            "      [20000, 5000]  |           973.3         |          536.0        \n",
            "      [50000, 100]   |           215.3         |          331.6        \n",
            "      [50000, 500]   |           432.4         |          338.3        \n",
            "      [50000, 1000]  |          1519.5         |          347.1        \n",
            "      [50000, 5000]  |          2452.4         |          580.5        \n",
            "\n",
            "Times are in microseconds (us).\n",
            "\n"
          ],
          "name": "stdout"
        }
      ]
    }
  ]
}