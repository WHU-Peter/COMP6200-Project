{
  "nbformat": 4,
  "nbformat_minor": 0,
  "metadata": {
    "accelerator": "GPU",
    "colab": {
      "name": "vgg_model_comprasion.ipynb",
      "provenance": [],
      "authorship_tag": "ABX9TyNpf7tGEJgI87wa8e4hZ/qq",
      "include_colab_link": true
    },
    "kernelspec": {
      "display_name": "Python 3",
      "name": "python3"
    },
    "language_info": {
      "name": "python"
    },
    "widgets": {
      "application/vnd.jupyter.widget-state+json": {
        "f2c05334db31474f969376bfbbe64379": {
          "model_module": "@jupyter-widgets/controls",
          "model_name": "HBoxModel",
          "model_module_version": "1.5.0",
          "state": {
            "_view_name": "HBoxView",
            "_dom_classes": [],
            "_model_name": "HBoxModel",
            "_view_module": "@jupyter-widgets/controls",
            "_model_module_version": "1.5.0",
            "_view_count": null,
            "_view_module_version": "1.5.0",
            "box_style": "",
            "layout": "IPY_MODEL_32022659b333499cb4044ed5a65f17f6",
            "_model_module": "@jupyter-widgets/controls",
            "children": [
              "IPY_MODEL_7163ac6be048436bb21962333d4df211",
              "IPY_MODEL_3eb03e831a3849c4843873597ea63fcf",
              "IPY_MODEL_dd7f76bb4d664c72b211cee2e207231b"
            ]
          }
        },
        "32022659b333499cb4044ed5a65f17f6": {
          "model_module": "@jupyter-widgets/base",
          "model_name": "LayoutModel",
          "model_module_version": "1.2.0",
          "state": {
            "_view_name": "LayoutView",
            "grid_template_rows": null,
            "right": null,
            "justify_content": null,
            "_view_module": "@jupyter-widgets/base",
            "overflow": null,
            "_model_module_version": "1.2.0",
            "_view_count": null,
            "flex_flow": null,
            "width": null,
            "min_width": null,
            "border": null,
            "align_items": null,
            "bottom": null,
            "_model_module": "@jupyter-widgets/base",
            "top": null,
            "grid_column": null,
            "overflow_y": null,
            "overflow_x": null,
            "grid_auto_flow": null,
            "grid_area": null,
            "grid_template_columns": null,
            "flex": null,
            "_model_name": "LayoutModel",
            "justify_items": null,
            "grid_row": null,
            "max_height": null,
            "align_content": null,
            "visibility": null,
            "align_self": null,
            "height": null,
            "min_height": null,
            "padding": null,
            "grid_auto_rows": null,
            "grid_gap": null,
            "max_width": null,
            "order": null,
            "_view_module_version": "1.2.0",
            "grid_template_areas": null,
            "object_position": null,
            "object_fit": null,
            "grid_auto_columns": null,
            "margin": null,
            "display": null,
            "left": null
          }
        },
        "7163ac6be048436bb21962333d4df211": {
          "model_module": "@jupyter-widgets/controls",
          "model_name": "HTMLModel",
          "model_module_version": "1.5.0",
          "state": {
            "_view_name": "HTMLView",
            "style": "IPY_MODEL_5f418f1bf09646e49984fe749e17f362",
            "_dom_classes": [],
            "description": "",
            "_model_name": "HTMLModel",
            "placeholder": "​",
            "_view_module": "@jupyter-widgets/controls",
            "_model_module_version": "1.5.0",
            "value": "",
            "_view_count": null,
            "_view_module_version": "1.5.0",
            "description_tooltip": null,
            "_model_module": "@jupyter-widgets/controls",
            "layout": "IPY_MODEL_930e11dcc78b45d78382562cc460057e"
          }
        },
        "3eb03e831a3849c4843873597ea63fcf": {
          "model_module": "@jupyter-widgets/controls",
          "model_name": "FloatProgressModel",
          "model_module_version": "1.5.0",
          "state": {
            "_view_name": "ProgressView",
            "style": "IPY_MODEL_a9a1dd366d584a7d94b264ef16261f58",
            "_dom_classes": [],
            "description": "",
            "_model_name": "FloatProgressModel",
            "bar_style": "success",
            "max": 170498071,
            "_view_module": "@jupyter-widgets/controls",
            "_model_module_version": "1.5.0",
            "value": 170498071,
            "_view_count": null,
            "_view_module_version": "1.5.0",
            "orientation": "horizontal",
            "min": 0,
            "description_tooltip": null,
            "_model_module": "@jupyter-widgets/controls",
            "layout": "IPY_MODEL_17e414ace94c47f9a5772546f641d5b5"
          }
        },
        "dd7f76bb4d664c72b211cee2e207231b": {
          "model_module": "@jupyter-widgets/controls",
          "model_name": "HTMLModel",
          "model_module_version": "1.5.0",
          "state": {
            "_view_name": "HTMLView",
            "style": "IPY_MODEL_2f20b5977f0645b7ae0358030ae60b35",
            "_dom_classes": [],
            "description": "",
            "_model_name": "HTMLModel",
            "placeholder": "​",
            "_view_module": "@jupyter-widgets/controls",
            "_model_module_version": "1.5.0",
            "value": " 170499072/? [00:02&lt;00:00, 57704391.67it/s]",
            "_view_count": null,
            "_view_module_version": "1.5.0",
            "description_tooltip": null,
            "_model_module": "@jupyter-widgets/controls",
            "layout": "IPY_MODEL_210fb9eee9a94893aa62d273f7b9487f"
          }
        },
        "5f418f1bf09646e49984fe749e17f362": {
          "model_module": "@jupyter-widgets/controls",
          "model_name": "DescriptionStyleModel",
          "model_module_version": "1.5.0",
          "state": {
            "_view_name": "StyleView",
            "_model_name": "DescriptionStyleModel",
            "description_width": "",
            "_view_module": "@jupyter-widgets/base",
            "_model_module_version": "1.5.0",
            "_view_count": null,
            "_view_module_version": "1.2.0",
            "_model_module": "@jupyter-widgets/controls"
          }
        },
        "930e11dcc78b45d78382562cc460057e": {
          "model_module": "@jupyter-widgets/base",
          "model_name": "LayoutModel",
          "model_module_version": "1.2.0",
          "state": {
            "_view_name": "LayoutView",
            "grid_template_rows": null,
            "right": null,
            "justify_content": null,
            "_view_module": "@jupyter-widgets/base",
            "overflow": null,
            "_model_module_version": "1.2.0",
            "_view_count": null,
            "flex_flow": null,
            "width": null,
            "min_width": null,
            "border": null,
            "align_items": null,
            "bottom": null,
            "_model_module": "@jupyter-widgets/base",
            "top": null,
            "grid_column": null,
            "overflow_y": null,
            "overflow_x": null,
            "grid_auto_flow": null,
            "grid_area": null,
            "grid_template_columns": null,
            "flex": null,
            "_model_name": "LayoutModel",
            "justify_items": null,
            "grid_row": null,
            "max_height": null,
            "align_content": null,
            "visibility": null,
            "align_self": null,
            "height": null,
            "min_height": null,
            "padding": null,
            "grid_auto_rows": null,
            "grid_gap": null,
            "max_width": null,
            "order": null,
            "_view_module_version": "1.2.0",
            "grid_template_areas": null,
            "object_position": null,
            "object_fit": null,
            "grid_auto_columns": null,
            "margin": null,
            "display": null,
            "left": null
          }
        },
        "a9a1dd366d584a7d94b264ef16261f58": {
          "model_module": "@jupyter-widgets/controls",
          "model_name": "ProgressStyleModel",
          "model_module_version": "1.5.0",
          "state": {
            "_view_name": "StyleView",
            "_model_name": "ProgressStyleModel",
            "description_width": "",
            "_view_module": "@jupyter-widgets/base",
            "_model_module_version": "1.5.0",
            "_view_count": null,
            "_view_module_version": "1.2.0",
            "bar_color": null,
            "_model_module": "@jupyter-widgets/controls"
          }
        },
        "17e414ace94c47f9a5772546f641d5b5": {
          "model_module": "@jupyter-widgets/base",
          "model_name": "LayoutModel",
          "model_module_version": "1.2.0",
          "state": {
            "_view_name": "LayoutView",
            "grid_template_rows": null,
            "right": null,
            "justify_content": null,
            "_view_module": "@jupyter-widgets/base",
            "overflow": null,
            "_model_module_version": "1.2.0",
            "_view_count": null,
            "flex_flow": null,
            "width": null,
            "min_width": null,
            "border": null,
            "align_items": null,
            "bottom": null,
            "_model_module": "@jupyter-widgets/base",
            "top": null,
            "grid_column": null,
            "overflow_y": null,
            "overflow_x": null,
            "grid_auto_flow": null,
            "grid_area": null,
            "grid_template_columns": null,
            "flex": null,
            "_model_name": "LayoutModel",
            "justify_items": null,
            "grid_row": null,
            "max_height": null,
            "align_content": null,
            "visibility": null,
            "align_self": null,
            "height": null,
            "min_height": null,
            "padding": null,
            "grid_auto_rows": null,
            "grid_gap": null,
            "max_width": null,
            "order": null,
            "_view_module_version": "1.2.0",
            "grid_template_areas": null,
            "object_position": null,
            "object_fit": null,
            "grid_auto_columns": null,
            "margin": null,
            "display": null,
            "left": null
          }
        },
        "2f20b5977f0645b7ae0358030ae60b35": {
          "model_module": "@jupyter-widgets/controls",
          "model_name": "DescriptionStyleModel",
          "model_module_version": "1.5.0",
          "state": {
            "_view_name": "StyleView",
            "_model_name": "DescriptionStyleModel",
            "description_width": "",
            "_view_module": "@jupyter-widgets/base",
            "_model_module_version": "1.5.0",
            "_view_count": null,
            "_view_module_version": "1.2.0",
            "_model_module": "@jupyter-widgets/controls"
          }
        },
        "210fb9eee9a94893aa62d273f7b9487f": {
          "model_module": "@jupyter-widgets/base",
          "model_name": "LayoutModel",
          "model_module_version": "1.2.0",
          "state": {
            "_view_name": "LayoutView",
            "grid_template_rows": null,
            "right": null,
            "justify_content": null,
            "_view_module": "@jupyter-widgets/base",
            "overflow": null,
            "_model_module_version": "1.2.0",
            "_view_count": null,
            "flex_flow": null,
            "width": null,
            "min_width": null,
            "border": null,
            "align_items": null,
            "bottom": null,
            "_model_module": "@jupyter-widgets/base",
            "top": null,
            "grid_column": null,
            "overflow_y": null,
            "overflow_x": null,
            "grid_auto_flow": null,
            "grid_area": null,
            "grid_template_columns": null,
            "flex": null,
            "_model_name": "LayoutModel",
            "justify_items": null,
            "grid_row": null,
            "max_height": null,
            "align_content": null,
            "visibility": null,
            "align_self": null,
            "height": null,
            "min_height": null,
            "padding": null,
            "grid_auto_rows": null,
            "grid_gap": null,
            "max_width": null,
            "order": null,
            "_view_module_version": "1.2.0",
            "grid_template_areas": null,
            "object_position": null,
            "object_fit": null,
            "grid_auto_columns": null,
            "margin": null,
            "display": null,
            "left": null
          }
        },
        "b1a15379d4534b5ba51fe1ef91170663": {
          "model_module": "@jupyter-widgets/controls",
          "model_name": "HBoxModel",
          "model_module_version": "1.5.0",
          "state": {
            "_view_name": "HBoxView",
            "_dom_classes": [],
            "_model_name": "HBoxModel",
            "_view_module": "@jupyter-widgets/controls",
            "_model_module_version": "1.5.0",
            "_view_count": null,
            "_view_module_version": "1.5.0",
            "box_style": "",
            "layout": "IPY_MODEL_fbbb48ab8a1b42cd8ffb62d8313d3bc1",
            "_model_module": "@jupyter-widgets/controls",
            "children": [
              "IPY_MODEL_6d3de7f0230b4790acdc67025383294c",
              "IPY_MODEL_32c318a4cca24df0b6e9c1796b9fbf1c",
              "IPY_MODEL_269fde70e7c943f7922a1f1389e78bfe"
            ]
          }
        },
        "fbbb48ab8a1b42cd8ffb62d8313d3bc1": {
          "model_module": "@jupyter-widgets/base",
          "model_name": "LayoutModel",
          "model_module_version": "1.2.0",
          "state": {
            "_view_name": "LayoutView",
            "grid_template_rows": null,
            "right": null,
            "justify_content": null,
            "_view_module": "@jupyter-widgets/base",
            "overflow": null,
            "_model_module_version": "1.2.0",
            "_view_count": null,
            "flex_flow": null,
            "width": null,
            "min_width": null,
            "border": null,
            "align_items": null,
            "bottom": null,
            "_model_module": "@jupyter-widgets/base",
            "top": null,
            "grid_column": null,
            "overflow_y": null,
            "overflow_x": null,
            "grid_auto_flow": null,
            "grid_area": null,
            "grid_template_columns": null,
            "flex": null,
            "_model_name": "LayoutModel",
            "justify_items": null,
            "grid_row": null,
            "max_height": null,
            "align_content": null,
            "visibility": null,
            "align_self": null,
            "height": null,
            "min_height": null,
            "padding": null,
            "grid_auto_rows": null,
            "grid_gap": null,
            "max_width": null,
            "order": null,
            "_view_module_version": "1.2.0",
            "grid_template_areas": null,
            "object_position": null,
            "object_fit": null,
            "grid_auto_columns": null,
            "margin": null,
            "display": null,
            "left": null
          }
        },
        "6d3de7f0230b4790acdc67025383294c": {
          "model_module": "@jupyter-widgets/controls",
          "model_name": "HTMLModel",
          "model_module_version": "1.5.0",
          "state": {
            "_view_name": "HTMLView",
            "style": "IPY_MODEL_31378d583cad4882b14e69b98712fb30",
            "_dom_classes": [],
            "description": "",
            "_model_name": "HTMLModel",
            "placeholder": "​",
            "_view_module": "@jupyter-widgets/controls",
            "_model_module_version": "1.5.0",
            "value": "100%",
            "_view_count": null,
            "_view_module_version": "1.5.0",
            "description_tooltip": null,
            "_model_module": "@jupyter-widgets/controls",
            "layout": "IPY_MODEL_0d79829425a1488daa34ce0b5f2cf099"
          }
        },
        "32c318a4cca24df0b6e9c1796b9fbf1c": {
          "model_module": "@jupyter-widgets/controls",
          "model_name": "FloatProgressModel",
          "model_module_version": "1.5.0",
          "state": {
            "_view_name": "ProgressView",
            "style": "IPY_MODEL_ed8b8ab363114e039269893b61d6ae22",
            "_dom_classes": [],
            "description": "",
            "_model_name": "FloatProgressModel",
            "bar_style": "success",
            "max": 553433881,
            "_view_module": "@jupyter-widgets/controls",
            "_model_module_version": "1.5.0",
            "value": 553433881,
            "_view_count": null,
            "_view_module_version": "1.5.0",
            "orientation": "horizontal",
            "min": 0,
            "description_tooltip": null,
            "_model_module": "@jupyter-widgets/controls",
            "layout": "IPY_MODEL_47a040c1ef6647c6b69c128d02dadb37"
          }
        },
        "269fde70e7c943f7922a1f1389e78bfe": {
          "model_module": "@jupyter-widgets/controls",
          "model_name": "HTMLModel",
          "model_module_version": "1.5.0",
          "state": {
            "_view_name": "HTMLView",
            "style": "IPY_MODEL_bb38ed95e51c42c79cf4a31a0ed62ef1",
            "_dom_classes": [],
            "description": "",
            "_model_name": "HTMLModel",
            "placeholder": "​",
            "_view_module": "@jupyter-widgets/controls",
            "_model_module_version": "1.5.0",
            "value": " 528M/528M [00:04&lt;00:00, 121MB/s]",
            "_view_count": null,
            "_view_module_version": "1.5.0",
            "description_tooltip": null,
            "_model_module": "@jupyter-widgets/controls",
            "layout": "IPY_MODEL_2da510e2ae4640cba01a367fc72297f0"
          }
        },
        "31378d583cad4882b14e69b98712fb30": {
          "model_module": "@jupyter-widgets/controls",
          "model_name": "DescriptionStyleModel",
          "model_module_version": "1.5.0",
          "state": {
            "_view_name": "StyleView",
            "_model_name": "DescriptionStyleModel",
            "description_width": "",
            "_view_module": "@jupyter-widgets/base",
            "_model_module_version": "1.5.0",
            "_view_count": null,
            "_view_module_version": "1.2.0",
            "_model_module": "@jupyter-widgets/controls"
          }
        },
        "0d79829425a1488daa34ce0b5f2cf099": {
          "model_module": "@jupyter-widgets/base",
          "model_name": "LayoutModel",
          "model_module_version": "1.2.0",
          "state": {
            "_view_name": "LayoutView",
            "grid_template_rows": null,
            "right": null,
            "justify_content": null,
            "_view_module": "@jupyter-widgets/base",
            "overflow": null,
            "_model_module_version": "1.2.0",
            "_view_count": null,
            "flex_flow": null,
            "width": null,
            "min_width": null,
            "border": null,
            "align_items": null,
            "bottom": null,
            "_model_module": "@jupyter-widgets/base",
            "top": null,
            "grid_column": null,
            "overflow_y": null,
            "overflow_x": null,
            "grid_auto_flow": null,
            "grid_area": null,
            "grid_template_columns": null,
            "flex": null,
            "_model_name": "LayoutModel",
            "justify_items": null,
            "grid_row": null,
            "max_height": null,
            "align_content": null,
            "visibility": null,
            "align_self": null,
            "height": null,
            "min_height": null,
            "padding": null,
            "grid_auto_rows": null,
            "grid_gap": null,
            "max_width": null,
            "order": null,
            "_view_module_version": "1.2.0",
            "grid_template_areas": null,
            "object_position": null,
            "object_fit": null,
            "grid_auto_columns": null,
            "margin": null,
            "display": null,
            "left": null
          }
        },
        "ed8b8ab363114e039269893b61d6ae22": {
          "model_module": "@jupyter-widgets/controls",
          "model_name": "ProgressStyleModel",
          "model_module_version": "1.5.0",
          "state": {
            "_view_name": "StyleView",
            "_model_name": "ProgressStyleModel",
            "description_width": "",
            "_view_module": "@jupyter-widgets/base",
            "_model_module_version": "1.5.0",
            "_view_count": null,
            "_view_module_version": "1.2.0",
            "bar_color": null,
            "_model_module": "@jupyter-widgets/controls"
          }
        },
        "47a040c1ef6647c6b69c128d02dadb37": {
          "model_module": "@jupyter-widgets/base",
          "model_name": "LayoutModel",
          "model_module_version": "1.2.0",
          "state": {
            "_view_name": "LayoutView",
            "grid_template_rows": null,
            "right": null,
            "justify_content": null,
            "_view_module": "@jupyter-widgets/base",
            "overflow": null,
            "_model_module_version": "1.2.0",
            "_view_count": null,
            "flex_flow": null,
            "width": null,
            "min_width": null,
            "border": null,
            "align_items": null,
            "bottom": null,
            "_model_module": "@jupyter-widgets/base",
            "top": null,
            "grid_column": null,
            "overflow_y": null,
            "overflow_x": null,
            "grid_auto_flow": null,
            "grid_area": null,
            "grid_template_columns": null,
            "flex": null,
            "_model_name": "LayoutModel",
            "justify_items": null,
            "grid_row": null,
            "max_height": null,
            "align_content": null,
            "visibility": null,
            "align_self": null,
            "height": null,
            "min_height": null,
            "padding": null,
            "grid_auto_rows": null,
            "grid_gap": null,
            "max_width": null,
            "order": null,
            "_view_module_version": "1.2.0",
            "grid_template_areas": null,
            "object_position": null,
            "object_fit": null,
            "grid_auto_columns": null,
            "margin": null,
            "display": null,
            "left": null
          }
        },
        "bb38ed95e51c42c79cf4a31a0ed62ef1": {
          "model_module": "@jupyter-widgets/controls",
          "model_name": "DescriptionStyleModel",
          "model_module_version": "1.5.0",
          "state": {
            "_view_name": "StyleView",
            "_model_name": "DescriptionStyleModel",
            "description_width": "",
            "_view_module": "@jupyter-widgets/base",
            "_model_module_version": "1.5.0",
            "_view_count": null,
            "_view_module_version": "1.2.0",
            "_model_module": "@jupyter-widgets/controls"
          }
        },
        "2da510e2ae4640cba01a367fc72297f0": {
          "model_module": "@jupyter-widgets/base",
          "model_name": "LayoutModel",
          "model_module_version": "1.2.0",
          "state": {
            "_view_name": "LayoutView",
            "grid_template_rows": null,
            "right": null,
            "justify_content": null,
            "_view_module": "@jupyter-widgets/base",
            "overflow": null,
            "_model_module_version": "1.2.0",
            "_view_count": null,
            "flex_flow": null,
            "width": null,
            "min_width": null,
            "border": null,
            "align_items": null,
            "bottom": null,
            "_model_module": "@jupyter-widgets/base",
            "top": null,
            "grid_column": null,
            "overflow_y": null,
            "overflow_x": null,
            "grid_auto_flow": null,
            "grid_area": null,
            "grid_template_columns": null,
            "flex": null,
            "_model_name": "LayoutModel",
            "justify_items": null,
            "grid_row": null,
            "max_height": null,
            "align_content": null,
            "visibility": null,
            "align_self": null,
            "height": null,
            "min_height": null,
            "padding": null,
            "grid_auto_rows": null,
            "grid_gap": null,
            "max_width": null,
            "order": null,
            "_view_module_version": "1.2.0",
            "grid_template_areas": null,
            "object_position": null,
            "object_fit": null,
            "grid_auto_columns": null,
            "margin": null,
            "display": null,
            "left": null
          }
        }
      }
    }
  },
  "cells": [
    {
      "cell_type": "markdown",
      "metadata": {
        "id": "view-in-github",
        "colab_type": "text"
      },
      "source": [
        "<a href=\"https://colab.research.google.com/github/WHU-Peter/COMP6200-Project/blob/main/vgg_model_comprasion.ipynb\" target=\"_parent\"><img src=\"https://colab.research.google.com/assets/colab-badge.svg\" alt=\"Open In Colab\"/></a>"
      ]
    },
    {
      "cell_type": "code",
      "metadata": {
        "colab": {
          "base_uri": "https://localhost:8080/"
        },
        "id": "tkZduTHahSHt",
        "outputId": "d8aeb536-7f3a-4325-9a69-7beb65b0231b"
      },
      "source": [
        "! /opt/bin/nvidia-smi"
      ],
      "execution_count": 1,
      "outputs": [
        {
          "output_type": "stream",
          "text": [
            "Thu Aug 19 17:52:24 2021       \n",
            "+-----------------------------------------------------------------------------+\n",
            "| NVIDIA-SMI 460.32.03    Driver Version: 460.32.03    CUDA Version: 11.2     |\n",
            "|-------------------------------+----------------------+----------------------+\n",
            "| GPU  Name        Persistence-M| Bus-Id        Disp.A | Volatile Uncorr. ECC |\n",
            "| Fan  Temp  Perf  Pwr:Usage/Cap|         Memory-Usage | GPU-Util  Compute M. |\n",
            "|                               |                      |               MIG M. |\n",
            "|===============================+======================+======================|\n",
            "|   0  Tesla P100-PCIE...  Off  | 00000000:00:04.0 Off |                    0 |\n",
            "| N/A   38C    P0    28W / 250W |      0MiB / 16280MiB |      0%      Default |\n",
            "|                               |                      |                  N/A |\n",
            "+-------------------------------+----------------------+----------------------+\n",
            "                                                                               \n",
            "+-----------------------------------------------------------------------------+\n",
            "| Processes:                                                                  |\n",
            "|  GPU   GI   CI        PID   Type   Process name                  GPU Memory |\n",
            "|        ID   ID                                                   Usage      |\n",
            "|=============================================================================|\n",
            "|  No running processes found                                                 |\n",
            "+-----------------------------------------------------------------------------+\n"
          ],
          "name": "stdout"
        }
      ]
    },
    {
      "cell_type": "code",
      "metadata": {
        "id": "M_KuXXQLqyGR"
      },
      "source": [
        "import torch\n",
        "import torch.nn as nn\n",
        "import torch.nn.functional as F\n",
        "from torch import optim\n",
        "from torch.utils.data import DataLoader\n",
        "import torchvision\n",
        "from torchvision import datasets, models, transforms\n",
        "import os\n",
        "from torch.autograd import Variable\n",
        "import matplotlib.pyplot as plt\n",
        "import time\n",
        "import math\n",
        "import numpy as np\n",
        "\n",
        "# fix random seed for reproducibility\n",
        "seed = 7\n",
        "torch.manual_seed(seed)\n",
        "torch.backends.cudnn.deterministic = True\n",
        "torch.backends.cudnn.benchmark = False\n",
        "import numpy as np\n",
        "np.random.seed(seed)\n",
        "\n",
        "device = \"cuda:0\" if torch.cuda.is_available() else \"cpu\""
      ],
      "execution_count": 2,
      "outputs": []
    },
    {
      "cell_type": "code",
      "metadata": {
        "colab": {
          "base_uri": "https://localhost:8080/",
          "height": 100,
          "referenced_widgets": [
            "f2c05334db31474f969376bfbbe64379",
            "32022659b333499cb4044ed5a65f17f6",
            "7163ac6be048436bb21962333d4df211",
            "3eb03e831a3849c4843873597ea63fcf",
            "dd7f76bb4d664c72b211cee2e207231b",
            "5f418f1bf09646e49984fe749e17f362",
            "930e11dcc78b45d78382562cc460057e",
            "a9a1dd366d584a7d94b264ef16261f58",
            "17e414ace94c47f9a5772546f641d5b5",
            "2f20b5977f0645b7ae0358030ae60b35",
            "210fb9eee9a94893aa62d273f7b9487f"
          ]
        },
        "id": "g8LYseck5ixy",
        "outputId": "46b30ee4-260e-486e-e19b-8214ae92e590"
      },
      "source": [
        "transform = transforms.Compose(\n",
        "    [transforms.ToTensor(),\n",
        "     transforms.Normalize((0.5, 0.5, 0.5), (0.5, 0.5, 0.5))])\n",
        "trainset = datasets.CIFAR10(root='./data', train=True,\n",
        "                                        download=True, transform=transform)\n",
        "trainloader = DataLoader(trainset, batch_size=4,\n",
        "                                          shuffle=True)\n",
        "testset = datasets.CIFAR10(root='./data', train=False,\n",
        "                                       download=True, transform=transform)\n",
        "testloader = DataLoader(testset, batch_size=4,\n",
        "                                         shuffle=False)\n",
        "classes = ('plane', 'car', 'bird', 'cat','deer', 'dog', 'frog', 'horse', 'ship', 'truck')"
      ],
      "execution_count": 3,
      "outputs": [
        {
          "output_type": "stream",
          "text": [
            "Downloading https://www.cs.toronto.edu/~kriz/cifar-10-python.tar.gz to ./data/cifar-10-python.tar.gz\n"
          ],
          "name": "stdout"
        },
        {
          "output_type": "display_data",
          "data": {
            "application/vnd.jupyter.widget-view+json": {
              "model_id": "f2c05334db31474f969376bfbbe64379",
              "version_minor": 0,
              "version_major": 2
            },
            "text/plain": [
              "  0%|          | 0/170498071 [00:00<?, ?it/s]"
            ]
          },
          "metadata": {
            "tags": []
          }
        },
        {
          "output_type": "stream",
          "text": [
            "Extracting ./data/cifar-10-python.tar.gz to ./data\n",
            "Files already downloaded and verified\n"
          ],
          "name": "stdout"
        }
      ]
    },
    {
      "cell_type": "code",
      "metadata": {
        "colab": {
          "base_uri": "https://localhost:8080/",
          "height": 1000,
          "referenced_widgets": [
            "b1a15379d4534b5ba51fe1ef91170663",
            "fbbb48ab8a1b42cd8ffb62d8313d3bc1",
            "6d3de7f0230b4790acdc67025383294c",
            "32c318a4cca24df0b6e9c1796b9fbf1c",
            "269fde70e7c943f7922a1f1389e78bfe",
            "31378d583cad4882b14e69b98712fb30",
            "0d79829425a1488daa34ce0b5f2cf099",
            "ed8b8ab363114e039269893b61d6ae22",
            "47a040c1ef6647c6b69c128d02dadb37",
            "bb38ed95e51c42c79cf4a31a0ed62ef1",
            "2da510e2ae4640cba01a367fc72297f0"
          ]
        },
        "id": "yPLbo3Pn1Z4s",
        "outputId": "7538f2fa-a260-4f0f-ffdd-aa910ca3fc53"
      },
      "source": [
        "baseline_model = models.vgg16(pretrained=True).to(device)  # 使用VGG16 网络预训练好的模型\n",
        "\n",
        "epoch = 30  #Training times\n",
        "learning_rate = 1e-5  #Learning rate\n",
        "\n",
        "criterion = nn.CrossEntropyLoss()\n",
        "optimizer = optim.Adam(baseline_model.parameters(), lr=learning_rate)\n",
        "Loss_Baseline_Model = []\n",
        "\n",
        "print('Baseline_Model Started Training')\n",
        "\n",
        "for epoch in range(epoch):    #Iteration\n",
        "    running_loss = 0.0\n",
        "    for i, data in enumerate(trainloader, 0):\n",
        "        inputs, labels = data\n",
        "                 #Initialize gradient\n",
        "        optimizer.zero_grad()\n",
        "\n",
        "        outputs = baseline_model(inputs.to(device))\n",
        "        loss = criterion(outputs, labels.to(device))\n",
        "        loss.backward()\n",
        "        optimizer.step()\n",
        "\n",
        "        # Print loss\n",
        "        running_loss += loss.item()\n",
        "        if i % 2000 == 1999:    # print every 2000 mini-batches\n",
        "            print('[%d, %5d] loss: %.5f' %\n",
        "                  (epoch + 1, i + 1, running_loss / 2000))\n",
        "            Loss_Baseline_Model.append(running_loss)\n",
        "            running_loss = 0.0\n",
        "\n",
        "print('Baseline_Model Finished Training')"
      ],
      "execution_count": 4,
      "outputs": [
        {
          "output_type": "stream",
          "text": [
            "Downloading: \"https://download.pytorch.org/models/vgg16-397923af.pth\" to /root/.cache/torch/hub/checkpoints/vgg16-397923af.pth\n"
          ],
          "name": "stderr"
        },
        {
          "output_type": "display_data",
          "data": {
            "application/vnd.jupyter.widget-view+json": {
              "model_id": "b1a15379d4534b5ba51fe1ef91170663",
              "version_minor": 0,
              "version_major": 2
            },
            "text/plain": [
              "  0%|          | 0.00/528M [00:00<?, ?B/s]"
            ]
          },
          "metadata": {
            "tags": []
          }
        },
        {
          "output_type": "stream",
          "text": [
            "Baseline_Model Started Training\n"
          ],
          "name": "stdout"
        },
        {
          "output_type": "stream",
          "text": [
            "/usr/local/lib/python3.7/dist-packages/torch/nn/functional.py:718: UserWarning: Named tensors and all their associated APIs are an experimental feature and subject to change. Please do not use them for anything important until they are released as stable. (Triggered internally at  /pytorch/c10/core/TensorImpl.h:1156.)\n",
            "  return torch.max_pool2d(input, kernel_size, stride, padding, dilation, ceil_mode)\n"
          ],
          "name": "stderr"
        },
        {
          "output_type": "stream",
          "text": [
            "[1,  2000] loss: 1.93624\n",
            "[1,  4000] loss: 0.93179\n",
            "[1,  6000] loss: 0.75061\n",
            "[1,  8000] loss: 0.67463\n",
            "[1, 10000] loss: 0.61091\n",
            "[1, 12000] loss: 0.55943\n",
            "[2,  2000] loss: 0.42958\n",
            "[2,  4000] loss: 0.42993\n",
            "[2,  6000] loss: 0.40983\n",
            "[2,  8000] loss: 0.41355\n",
            "[2, 10000] loss: 0.39910\n",
            "[2, 12000] loss: 0.40420\n",
            "[3,  2000] loss: 0.24903\n",
            "[3,  4000] loss: 0.26369\n",
            "[3,  6000] loss: 0.27917\n",
            "[3,  8000] loss: 0.26300\n",
            "[3, 10000] loss: 0.26058\n",
            "[3, 12000] loss: 0.26039\n",
            "[4,  2000] loss: 0.15450\n",
            "[4,  4000] loss: 0.15064\n",
            "[4,  6000] loss: 0.16846\n",
            "[4,  8000] loss: 0.18007\n",
            "[4, 10000] loss: 0.17980\n",
            "[4, 12000] loss: 0.16427\n",
            "[5,  2000] loss: 0.08981\n",
            "[5,  4000] loss: 0.11735\n",
            "[5,  6000] loss: 0.11035\n",
            "[5,  8000] loss: 0.11948\n",
            "[5, 10000] loss: 0.11573\n",
            "[5, 12000] loss: 0.11647\n",
            "[6,  2000] loss: 0.06952\n",
            "[6,  4000] loss: 0.08555\n",
            "[6,  6000] loss: 0.08027\n",
            "[6,  8000] loss: 0.08851\n",
            "[6, 10000] loss: 0.08592\n",
            "[6, 12000] loss: 0.08377\n",
            "[7,  2000] loss: 0.05952\n",
            "[7,  4000] loss: 0.07139\n",
            "[7,  6000] loss: 0.07047\n",
            "[7,  8000] loss: 0.05587\n",
            "[7, 10000] loss: 0.06945\n",
            "[7, 12000] loss: 0.08702\n",
            "[8,  2000] loss: 0.04851\n",
            "[8,  4000] loss: 0.05060\n",
            "[8,  6000] loss: 0.05417\n",
            "[8,  8000] loss: 0.06842\n",
            "[8, 10000] loss: 0.05922\n",
            "[8, 12000] loss: 0.05921\n",
            "[9,  2000] loss: 0.03676\n",
            "[9,  4000] loss: 0.05751\n",
            "[9,  6000] loss: 0.04575\n",
            "[9,  8000] loss: 0.05990\n",
            "[9, 10000] loss: 0.05357\n",
            "[9, 12000] loss: 0.05455\n",
            "[10,  2000] loss: 0.03717\n",
            "[10,  4000] loss: 0.06035\n",
            "[10,  6000] loss: 0.04348\n",
            "[10,  8000] loss: 0.04635\n",
            "[10, 10000] loss: 0.05336\n",
            "[10, 12000] loss: 0.05036\n",
            "[11,  2000] loss: 0.03586\n",
            "[11,  4000] loss: 0.04644\n",
            "[11,  6000] loss: 0.04332\n",
            "[11,  8000] loss: 0.04076\n",
            "[11, 10000] loss: 0.05150\n",
            "[11, 12000] loss: 0.04155\n",
            "[12,  2000] loss: 0.04263\n",
            "[12,  4000] loss: 0.03693\n",
            "[12,  6000] loss: 0.03952\n",
            "[12,  8000] loss: 0.05109\n",
            "[12, 10000] loss: 0.04571\n",
            "[12, 12000] loss: 0.05824\n",
            "[13,  2000] loss: 0.03421\n",
            "[13,  4000] loss: 0.03620\n",
            "[13,  6000] loss: 0.04050\n",
            "[13,  8000] loss: 0.03557\n",
            "[13, 10000] loss: 0.05814\n",
            "[13, 12000] loss: 0.03268\n",
            "[14,  2000] loss: 0.03748\n",
            "[14,  4000] loss: 0.03821\n",
            "[14,  6000] loss: 0.03430\n",
            "[14,  8000] loss: 0.04276\n",
            "[14, 10000] loss: 0.03711\n",
            "[14, 12000] loss: 0.04133\n",
            "[15,  2000] loss: 0.03932\n",
            "[15,  4000] loss: 0.03816\n",
            "[15,  6000] loss: 0.03590\n",
            "[15,  8000] loss: 0.03862\n",
            "[15, 10000] loss: 0.04297\n",
            "[15, 12000] loss: 0.04059\n",
            "[16,  2000] loss: 0.04430\n",
            "[16,  4000] loss: 0.03536\n",
            "[16,  6000] loss: 0.03871\n",
            "[16,  8000] loss: 0.03656\n",
            "[16, 10000] loss: 0.03213\n",
            "[16, 12000] loss: 0.04274\n",
            "[17,  2000] loss: 0.02402\n",
            "[17,  4000] loss: 0.03441\n",
            "[17,  6000] loss: 0.03510\n",
            "[17,  8000] loss: 0.03513\n",
            "[17, 10000] loss: 0.03097\n",
            "[17, 12000] loss: 0.04186\n",
            "[18,  2000] loss: 0.02342\n",
            "[18,  4000] loss: 0.03040\n",
            "[18,  6000] loss: 0.04074\n",
            "[18,  8000] loss: 0.03108\n",
            "[18, 10000] loss: 0.03784\n",
            "[18, 12000] loss: 0.03213\n",
            "[19,  2000] loss: 0.02453\n",
            "[19,  4000] loss: 0.03725\n",
            "[19,  6000] loss: 0.05575\n",
            "[19,  8000] loss: 0.01903\n",
            "[19, 10000] loss: 0.04115\n",
            "[19, 12000] loss: 0.03907\n",
            "[20,  2000] loss: 0.01928\n",
            "[20,  4000] loss: 0.03395\n",
            "[20,  6000] loss: 0.03688\n",
            "[20,  8000] loss: 0.02572\n",
            "[20, 10000] loss: 0.05285\n",
            "[20, 12000] loss: 0.02863\n",
            "[21,  2000] loss: 0.03629\n",
            "[21,  4000] loss: 0.04028\n",
            "[21,  6000] loss: 0.02284\n",
            "[21,  8000] loss: 0.03558\n",
            "[21, 10000] loss: 0.03683\n",
            "[21, 12000] loss: 0.03280\n",
            "[22,  2000] loss: 0.03061\n",
            "[22,  4000] loss: 0.04416\n",
            "[22,  6000] loss: 0.02794\n",
            "[22,  8000] loss: 0.02696\n",
            "[22, 10000] loss: 0.05024\n",
            "[22, 12000] loss: 0.02617\n",
            "[23,  2000] loss: 0.02532\n",
            "[23,  4000] loss: 0.03249\n",
            "[23,  6000] loss: 0.03181\n",
            "[23,  8000] loss: 0.04205\n",
            "[23, 10000] loss: 0.03782\n",
            "[23, 12000] loss: 0.03881\n",
            "[24,  2000] loss: 0.02807\n",
            "[24,  4000] loss: 0.02894\n",
            "[24,  6000] loss: 0.04561\n",
            "[24,  8000] loss: 0.01687\n",
            "[24, 10000] loss: 0.02664\n",
            "[24, 12000] loss: 0.02614\n",
            "[25,  2000] loss: 0.02944\n",
            "[25,  4000] loss: 0.02783\n",
            "[25,  6000] loss: 0.03135\n",
            "[25,  8000] loss: 0.03708\n",
            "[25, 10000] loss: 0.03288\n",
            "[25, 12000] loss: 0.03398\n",
            "[26,  2000] loss: 0.03638\n",
            "[26,  4000] loss: 0.02806\n",
            "[26,  6000] loss: 0.04596\n",
            "[26,  8000] loss: 0.04283\n",
            "[26, 10000] loss: 0.02665\n",
            "[26, 12000] loss: 0.03181\n",
            "[27,  2000] loss: 0.02020\n",
            "[27,  4000] loss: 0.04001\n",
            "[27,  6000] loss: 0.01889\n",
            "[27,  8000] loss: 0.03911\n",
            "[27, 10000] loss: 0.03741\n",
            "[27, 12000] loss: 0.02047\n",
            "[28,  2000] loss: 0.03393\n",
            "[28,  4000] loss: 0.01731\n",
            "[28,  6000] loss: 0.02874\n",
            "[28,  8000] loss: 0.03867\n",
            "[28, 10000] loss: 0.04018\n",
            "[28, 12000] loss: 0.02697\n",
            "[29,  2000] loss: 0.02181\n",
            "[29,  4000] loss: 0.03199\n",
            "[29,  6000] loss: 0.02346\n",
            "[29,  8000] loss: 0.03117\n",
            "[29, 10000] loss: 0.04555\n",
            "[29, 12000] loss: 0.03318\n",
            "[30,  2000] loss: 0.02975\n",
            "[30,  4000] loss: 0.02650\n",
            "[30,  6000] loss: 0.02724\n",
            "[30,  8000] loss: 0.02301\n",
            "[30, 10000] loss: 0.03445\n",
            "[30, 12000] loss: 0.03289\n",
            "Baseline_Model Finished Training\n"
          ],
          "name": "stdout"
        }
      ]
    },
    {
      "cell_type": "code",
      "metadata": {
        "colab": {
          "base_uri": "https://localhost:8080/",
          "height": 283
        },
        "id": "z3Qc6f-O6J_-",
        "outputId": "a890c8a1-1743-415e-93e5-fc8a678587b6"
      },
      "source": [
        "fig, ax = plt.subplots(nrows=1, ncols=1,figsize=(6,4))\n",
        "ax.plot(Loss_Baseline_Model, Color='magenta', label='Baseline_model Train Loss')\n",
        "ax.set_xlabel(\"Iteration\", fontsize=12)\n",
        "ax.set_ylabel(\"Loss\", fontsize=12)\n",
        "# ax.set_title(\"Linear Model\", fontsize=16)\n",
        "ax.grid()\n",
        "ax.legend()\n",
        "# ax.yaxis.set_major_locator(y_major_locator)\n",
        "plt.show()"
      ],
      "execution_count": 5,
      "outputs": [
        {
          "output_type": "display_data",
          "data": {
            "image/png": "[encoded data removed]",
            "text/plain": [
              "<Figure size 432x288 with 1 Axes>"
            ]
          },
          "metadata": {
            "tags": [],
            "needs_background": "light"
          }
        }
      ]
    },
    {
      "cell_type": "code",
      "metadata": {
        "colab": {
          "base_uri": "https://localhost:8080/"
        },
        "id": "Hb6nXBKFU8FH",
        "outputId": "b79adc93-458e-46f8-f43a-e400652ebd95"
      },
      "source": [
        "correct = 0\n",
        "total = 0\n",
        "baseline_model.eval()\n",
        "for data in testloader:\n",
        "    images, labels = data\n",
        "    images, labels = images.to(device), labels.to(device)\n",
        "    outputs = baseline_model(images)\n",
        "    _, predicted = torch.max(outputs.data, 1)\n",
        "    total += labels.size(0)\n",
        "    correct += (predicted == labels).sum().item()\n",
        "\n",
        "print('Accuracy of the network on the 10000 test images: %.2f %%' % (\n",
        "    100 * correct / total))"
      ],
      "execution_count": 6,
      "outputs": [
        {
          "output_type": "stream",
          "text": [
            "Accuracy of the network on the 10000 test images: 87.95 %\n"
          ],
          "name": "stdout"
        }
      ]
    },
    {
      "cell_type": "code",
      "metadata": {
        "id": "e_GNeu-VqX-V"
      },
      "source": [
        "def softmax_temperature(logits, temperature):\n",
        "    pro = F.softmax(logits / temperature, dim=-1)\n",
        "    return pro;"
      ],
      "execution_count": 7,
      "outputs": []
    },
    {
      "cell_type": "code",
      "metadata": {
        "id": "1hA3yyeXqYwK"
      },
      "source": [
        "def mapping_onehot_vector(vector):\n",
        "    return vector @ torch.LongTensor(range(0, vector.shape[1]))"
      ],
      "execution_count": 8,
      "outputs": []
    },
    {
      "cell_type": "code",
      "metadata": {
        "id": "SkWst_c2qbnq"
      },
      "source": [
        "class LearnableLookUpTable(nn.Module):\n",
        "    def __init__(self, num_embeddings: int, embedding_dim: int, init_temperature: float):\n",
        "        super(LearnableLookUpTable, self).__init__()\n",
        "        self.emb = nn.Embedding(num_embeddings, embedding_dim)\n",
        "        self.temperature = nn.Parameter(torch.tensor(init_temperature, requires_grad=True))\n",
        "\n",
        "    def forward(self, x):\n",
        "        # if self.training:\n",
        "          x = softmax_temperature(x, self.temperature)\n",
        "          return x @ self.emb.weight\n",
        "        # else:\n",
        "        #   x = softmax_temperature(x, 0.00001)\n",
        "        #   x = mapping_onehot_vector(x)\n",
        "        #   return self.emb(x)"
      ],
      "execution_count": 9,
      "outputs": []
    },
    {
      "cell_type": "code",
      "metadata": {
        "id": "RZV7QMU0gg5_"
      },
      "source": [
        "class Learnable_VGG_LookUpTable(nn.Module):\n",
        "  def __init__(self, originalModel, init_temperature):\n",
        "    super(Learnable_VGG_LookUpTable, self).__init__()\n",
        "    # self.features = originalModel.features\n",
        "    # self.avgpool = originalModel.avgpool\n",
        "    self.vgg = nn.Sequential(*list(originalModel.children())[:-1])\n",
        "    # self.classifier = originalModel.classifier\n",
        "    self.look_up_table = LearnableLookUpTable(25088, 4096, init_temperature)\n",
        "    self.classifier = nn.Sequential(*list(originalModel.classifier.children())[1:])\n",
        "    \n",
        "  def forward(self, x):\n",
        "    # x = self.features(x)\n",
        "    # x = self.avgpool(x)\n",
        "    x = self.vgg(x)\n",
        "    x = x.view(x.size(0), -1)\n",
        "    x = self.look_up_table(x)\n",
        "    x = self.classifier(x)\n",
        "    return x"
      ],
      "execution_count": 10,
      "outputs": []
    },
    {
      "cell_type": "code",
      "metadata": {
        "id": "BFiS0_T5DYdr",
        "colab": {
          "base_uri": "https://localhost:8080/"
        },
        "outputId": "3e52f7ff-e9cf-476f-bae7-cfe483bbfde5"
      },
      "source": [
        "pre_model = models.vgg16(pretrained=True)  # 使用VGG16 网络预训练好的模型\n",
        "for parma in pre_model.parameters():  # 设置自动梯度为false\n",
        "    parma.requires_grad = True\n",
        "learnable_lut_model = Learnable_VGG_LookUpTable(pre_model, 1.).to(device)\n",
        "\n",
        "epoches = 30  #Training times\n",
        "learning_rate = 1e-5  #Learning rate\n",
        "\n",
        "criterion = nn.CrossEntropyLoss()\n",
        "optimizer = optim.Adam(learnable_lut_model.parameters(), lr=learning_rate)\n",
        "Loss_Learnable_Model = []\n",
        "Temperature = []\n",
        "\n",
        "print('Learnable_lut_model Started Training')\n",
        "for epoch in range(epoches):    #Iteration\n",
        "    running_loss = 0.0\n",
        "    for i, data in enumerate(trainloader, 0):\n",
        "        inputs, labels = data\n",
        "                 #Initialize gradient\n",
        "        optimizer.zero_grad()\n",
        "        outputs = learnable_lut_model(inputs.to(device))\n",
        "        loss = criterion(outputs, labels.to(device))\n",
        "        loss.backward()\n",
        "        optimizer.step()\n",
        "\n",
        "        # for parameter in optimizer.param_groups[0]['params']:\n",
        "        #   print(np.any(parameter.grad.cpu().numpy()==0))\n",
        "\n",
        "        # Print loss\n",
        "        running_loss += loss.item()\n",
        "        if i % 2000 == 1999:    # print every 2000 mini-batches\n",
        "            print('[%d, %5d] loss: %.5f' %\n",
        "                  (epoch + 1, i + 1, running_loss / 2000))\n",
        "            Loss_Learnable_Model.append(running_loss)\n",
        "            running_loss = 0.0\n",
        "\n",
        "            for parameter in learnable_lut_model.named_parameters():\n",
        "              if parameter[0] == 'look_up_table.temperature':\n",
        "                print('[%d, %5d] temperature: %.5f' %\n",
        "                  (epoch + 1, i + 1, parameter[1].data.detach().cpu().numpy()))\n",
        "                Temperature.append(parameter[1].data.detach().cpu().numpy())\n",
        "\n",
        "print('Learnable_lut_model Finished Training')"
      ],
      "execution_count": 11,
      "outputs": [
        {
          "output_type": "stream",
          "text": [
            "Learnable_lut_model Started Training\n",
            "[1,  2000] loss: 3.10607\n",
            "[1,  2000] temperature: 1.00095\n",
            "[1,  4000] loss: 2.34491\n",
            "[1,  4000] temperature: 1.00102\n",
            "[1,  6000] loss: 1.91788\n",
            "[1,  6000] temperature: 1.00184\n",
            "[1,  8000] loss: 1.54783\n",
            "[1,  8000] temperature: 1.00265\n",
            "[1, 10000] loss: 1.40807\n",
            "[1, 10000] temperature: 1.00336\n",
            "[1, 12000] loss: 1.28738\n",
            "[1, 12000] temperature: 1.00383\n",
            "[2,  2000] loss: 1.14859\n",
            "[2,  2000] temperature: 1.00387\n",
            "[2,  4000] loss: 1.06961\n",
            "[2,  4000] temperature: 1.00382\n",
            "[2,  6000] loss: 1.01502\n",
            "[2,  6000] temperature: 1.00392\n",
            "[2,  8000] loss: 0.84538\n",
            "[2,  8000] temperature: 1.00402\n",
            "[2, 10000] loss: 0.68097\n",
            "[2, 10000] temperature: 1.00419\n",
            "[2, 12000] loss: 0.64636\n",
            "[2, 12000] temperature: 1.00434\n",
            "[3,  2000] loss: 0.48695\n",
            "[3,  2000] temperature: 1.00385\n",
            "[3,  4000] loss: 0.48782\n",
            "[3,  4000] temperature: 1.00383\n",
            "[3,  6000] loss: 0.44341\n",
            "[3,  6000] temperature: 1.00373\n",
            "[3,  8000] loss: 0.46978\n",
            "[3,  8000] temperature: 1.00390\n",
            "[3, 10000] loss: 0.44992\n",
            "[3, 10000] temperature: 1.00375\n",
            "[3, 12000] loss: 0.42944\n",
            "[3, 12000] temperature: 1.00388\n",
            "[4,  2000] loss: 0.29759\n",
            "[4,  2000] temperature: 1.00305\n",
            "[4,  4000] loss: 0.31224\n",
            "[4,  4000] temperature: 1.00293\n",
            "[4,  6000] loss: 0.30354\n",
            "[4,  6000] temperature: 1.00251\n",
            "[4,  8000] loss: 0.29415\n",
            "[4,  8000] temperature: 1.00244\n",
            "[4, 10000] loss: 0.30662\n",
            "[4, 10000] temperature: 1.00224\n",
            "[4, 12000] loss: 0.30299\n",
            "[4, 12000] temperature: 1.00238\n",
            "[5,  2000] loss: 0.19420\n",
            "[5,  2000] temperature: 1.00165\n",
            "[5,  4000] loss: 0.20369\n",
            "[5,  4000] temperature: 1.00112\n",
            "[5,  6000] loss: 0.19840\n",
            "[5,  6000] temperature: 1.00101\n",
            "[5,  8000] loss: 0.19482\n",
            "[5,  8000] temperature: 1.00077\n",
            "[5, 10000] loss: 0.19806\n",
            "[5, 10000] temperature: 1.00053\n",
            "[5, 12000] loss: 0.19716\n",
            "[5, 12000] temperature: 1.00045\n",
            "[6,  2000] loss: 0.12618\n",
            "[6,  2000] temperature: 0.99965\n",
            "[6,  4000] loss: 0.13372\n",
            "[6,  4000] temperature: 0.99944\n",
            "[6,  6000] loss: 0.13010\n",
            "[6,  6000] temperature: 0.99901\n",
            "[6,  8000] loss: 0.14203\n",
            "[6,  8000] temperature: 0.99911\n",
            "[6, 10000] loss: 0.13020\n",
            "[6, 10000] temperature: 0.99878\n",
            "[6, 12000] loss: 0.13471\n",
            "[6, 12000] temperature: 0.99855\n",
            "[7,  2000] loss: 0.08035\n",
            "[7,  2000] temperature: 0.99795\n",
            "[7,  4000] loss: 0.09781\n",
            "[7,  4000] temperature: 0.99798\n",
            "[7,  6000] loss: 0.09573\n",
            "[7,  6000] temperature: 0.99779\n",
            "[7,  8000] loss: 0.09300\n",
            "[7,  8000] temperature: 0.99741\n",
            "[7, 10000] loss: 0.08957\n",
            "[7, 10000] temperature: 0.99735\n",
            "[7, 12000] loss: 0.10139\n",
            "[7, 12000] temperature: 0.99755\n",
            "[8,  2000] loss: 0.05485\n",
            "[8,  2000] temperature: 0.99691\n",
            "[8,  4000] loss: 0.05911\n",
            "[8,  4000] temperature: 0.99664\n",
            "[8,  6000] loss: 0.07564\n",
            "[8,  6000] temperature: 0.99664\n",
            "[8,  8000] loss: 0.07712\n",
            "[8,  8000] temperature: 0.99664\n",
            "[8, 10000] loss: 0.06879\n",
            "[8, 10000] temperature: 0.99616\n",
            "[8, 12000] loss: 0.07405\n",
            "[8, 12000] temperature: 0.99606\n",
            "[9,  2000] loss: 0.05253\n",
            "[9,  2000] temperature: 0.99638\n",
            "[9,  4000] loss: 0.05568\n",
            "[9,  4000] temperature: 0.99630\n",
            "[9,  6000] loss: 0.06279\n",
            "[9,  6000] temperature: 0.99633\n",
            "[9,  8000] loss: 0.05448\n",
            "[9,  8000] temperature: 0.99652\n",
            "[9, 10000] loss: 0.06152\n",
            "[9, 10000] temperature: 0.99651\n",
            "[9, 12000] loss: 0.05505\n",
            "[9, 12000] temperature: 0.99649\n",
            "[10,  2000] loss: 0.04771\n",
            "[10,  2000] temperature: 0.99612\n",
            "[10,  4000] loss: 0.04713\n",
            "[10,  4000] temperature: 0.99608\n",
            "[10,  6000] loss: 0.05254\n",
            "[10,  6000] temperature: 0.99647\n",
            "[10,  8000] loss: 0.05265\n",
            "[10,  8000] temperature: 0.99645\n",
            "[10, 10000] loss: 0.05473\n",
            "[10, 10000] temperature: 0.99670\n",
            "[10, 12000] loss: 0.05276\n",
            "[10, 12000] temperature: 0.99706\n",
            "[11,  2000] loss: 0.04756\n",
            "[11,  2000] temperature: 0.99724\n",
            "[11,  4000] loss: 0.04355\n",
            "[11,  4000] temperature: 0.99762\n",
            "[11,  6000] loss: 0.04058\n",
            "[11,  6000] temperature: 0.99767\n",
            "[11,  8000] loss: 0.04415\n",
            "[11,  8000] temperature: 0.99738\n",
            "[11, 10000] loss: 0.04600\n",
            "[11, 10000] temperature: 0.99777\n",
            "[11, 12000] loss: 0.03953\n",
            "[11, 12000] temperature: 0.99770\n",
            "[12,  2000] loss: 0.03644\n",
            "[12,  2000] temperature: 0.99788\n",
            "[12,  4000] loss: 0.04209\n",
            "[12,  4000] temperature: 0.99821\n",
            "[12,  6000] loss: 0.04245\n",
            "[12,  6000] temperature: 0.99825\n",
            "[12,  8000] loss: 0.04393\n",
            "[12,  8000] temperature: 0.99860\n",
            "[12, 10000] loss: 0.04617\n",
            "[12, 10000] temperature: 0.99879\n",
            "[12, 12000] loss: 0.03144\n",
            "[12, 12000] temperature: 0.99844\n",
            "[13,  2000] loss: 0.02691\n",
            "[13,  2000] temperature: 0.99854\n",
            "[13,  4000] loss: 0.03284\n",
            "[13,  4000] temperature: 0.99873\n",
            "[13,  6000] loss: 0.03819\n",
            "[13,  6000] temperature: 0.99901\n",
            "[13,  8000] loss: 0.03130\n",
            "[13,  8000] temperature: 0.99903\n",
            "[13, 10000] loss: 0.04095\n",
            "[13, 10000] temperature: 0.99935\n",
            "[13, 12000] loss: 0.04149\n",
            "[13, 12000] temperature: 1.00000\n",
            "[14,  2000] loss: 0.02992\n",
            "[14,  2000] temperature: 1.00011\n",
            "[14,  4000] loss: 0.03482\n",
            "[14,  4000] temperature: 1.00077\n",
            "[14,  6000] loss: 0.02411\n",
            "[14,  6000] temperature: 1.00070\n",
            "[14,  8000] loss: 0.03143\n",
            "[14,  8000] temperature: 1.00091\n",
            "[14, 10000] loss: 0.04453\n",
            "[14, 10000] temperature: 1.00153\n",
            "[14, 12000] loss: 0.03232\n",
            "[14, 12000] temperature: 1.00150\n",
            "[15,  2000] loss: 0.02289\n",
            "[15,  2000] temperature: 1.00173\n",
            "[15,  4000] loss: 0.02724\n",
            "[15,  4000] temperature: 1.00186\n",
            "[15,  6000] loss: 0.03024\n",
            "[15,  6000] temperature: 1.00218\n",
            "[15,  8000] loss: 0.02978\n",
            "[15,  8000] temperature: 1.00245\n",
            "[15, 10000] loss: 0.03568\n",
            "[15, 10000] temperature: 1.00296\n",
            "[15, 12000] loss: 0.02750\n",
            "[15, 12000] temperature: 1.00312\n",
            "[16,  2000] loss: 0.02856\n",
            "[16,  2000] temperature: 1.00354\n",
            "[16,  4000] loss: 0.02828\n",
            "[16,  4000] temperature: 1.00357\n",
            "[16,  6000] loss: 0.02636\n",
            "[16,  6000] temperature: 1.00403\n",
            "[16,  8000] loss: 0.02526\n",
            "[16,  8000] temperature: 1.00427\n",
            "[16, 10000] loss: 0.02460\n",
            "[16, 10000] temperature: 1.00436\n",
            "[16, 12000] loss: 0.03560\n",
            "[16, 12000] temperature: 1.00498\n",
            "[17,  2000] loss: 0.02026\n",
            "[17,  2000] temperature: 1.00538\n",
            "[17,  4000] loss: 0.01963\n",
            "[17,  4000] temperature: 1.00523\n",
            "[17,  6000] loss: 0.03345\n",
            "[17,  6000] temperature: 1.00562\n",
            "[17,  8000] loss: 0.02336\n",
            "[17,  8000] temperature: 1.00599\n",
            "[17, 10000] loss: 0.02126\n",
            "[17, 10000] temperature: 1.00605\n",
            "[17, 12000] loss: 0.02898\n",
            "[17, 12000] temperature: 1.00658\n",
            "[18,  2000] loss: 0.02111\n",
            "[18,  2000] temperature: 1.00657\n",
            "[18,  4000] loss: 0.03472\n",
            "[18,  4000] temperature: 1.00742\n",
            "[18,  6000] loss: 0.01751\n",
            "[18,  6000] temperature: 1.00752\n",
            "[18,  8000] loss: 0.02291\n",
            "[18,  8000] temperature: 1.00782\n",
            "[18, 10000] loss: 0.02753\n",
            "[18, 10000] temperature: 1.00795\n",
            "[18, 12000] loss: 0.02354\n",
            "[18, 12000] temperature: 1.00869\n",
            "[19,  2000] loss: 0.02518\n",
            "[19,  2000] temperature: 1.00907\n",
            "[19,  4000] loss: 0.03063\n",
            "[19,  4000] temperature: 1.00939\n",
            "[19,  6000] loss: 0.01774\n",
            "[19,  6000] temperature: 1.00924\n",
            "[19,  8000] loss: 0.02160\n",
            "[19,  8000] temperature: 1.00961\n",
            "[19, 10000] loss: 0.02929\n",
            "[19, 10000] temperature: 1.01002\n",
            "[19, 12000] loss: 0.02251\n",
            "[19, 12000] temperature: 1.00988\n",
            "[20,  2000] loss: 0.03462\n",
            "[20,  2000] temperature: 1.01089\n",
            "[20,  4000] loss: 0.01890\n",
            "[20,  4000] temperature: 1.01087\n",
            "[20,  6000] loss: 0.02595\n",
            "[20,  6000] temperature: 1.01158\n",
            "[20,  8000] loss: 0.02388\n",
            "[20,  8000] temperature: 1.01196\n",
            "[20, 10000] loss: 0.02660\n",
            "[20, 10000] temperature: 1.01224\n",
            "[20, 12000] loss: 0.02685\n",
            "[20, 12000] temperature: 1.01283\n",
            "[21,  2000] loss: 0.01146\n",
            "[21,  2000] temperature: 1.01294\n",
            "[21,  4000] loss: 0.01763\n",
            "[21,  4000] temperature: 1.01343\n",
            "[21,  6000] loss: 0.02876\n",
            "[21,  6000] temperature: 1.01398\n",
            "[21,  8000] loss: 0.01755\n",
            "[21,  8000] temperature: 1.01371\n",
            "[21, 10000] loss: 0.03200\n",
            "[21, 10000] temperature: 1.01456\n",
            "[21, 12000] loss: 0.01899\n",
            "[21, 12000] temperature: 1.01468\n",
            "[22,  2000] loss: 0.02187\n",
            "[22,  2000] temperature: 1.01498\n",
            "[22,  4000] loss: 0.02172\n",
            "[22,  4000] temperature: 1.01563\n",
            "[22,  6000] loss: 0.02717\n",
            "[22,  6000] temperature: 1.01592\n",
            "[22,  8000] loss: 0.02090\n",
            "[22,  8000] temperature: 1.01645\n",
            "[22, 10000] loss: 0.02261\n",
            "[22, 10000] temperature: 1.01652\n",
            "[22, 12000] loss: 0.01670\n",
            "[22, 12000] temperature: 1.01664\n",
            "[23,  2000] loss: 0.01800\n",
            "[23,  2000] temperature: 1.01738\n",
            "[23,  4000] loss: 0.02079\n",
            "[23,  4000] temperature: 1.01797\n",
            "[23,  6000] loss: 0.01919\n",
            "[23,  6000] temperature: 1.01837\n",
            "[23,  8000] loss: 0.02616\n",
            "[23,  8000] temperature: 1.01898\n",
            "[23, 10000] loss: 0.02716\n",
            "[23, 10000] temperature: 1.01961\n",
            "[23, 12000] loss: 0.01951\n",
            "[23, 12000] temperature: 1.01996\n",
            "[24,  2000] loss: 0.01509\n",
            "[24,  2000] temperature: 1.02044\n",
            "[24,  4000] loss: 0.02099\n",
            "[24,  4000] temperature: 1.02057\n",
            "[24,  6000] loss: 0.01700\n",
            "[24,  6000] temperature: 1.02093\n",
            "[24,  8000] loss: 0.01321\n",
            "[24,  8000] temperature: 1.02098\n",
            "[24, 10000] loss: 0.02793\n",
            "[24, 10000] temperature: 1.02193\n",
            "[24, 12000] loss: 0.02223\n",
            "[24, 12000] temperature: 1.02212\n",
            "[25,  2000] loss: 0.01634\n",
            "[25,  2000] temperature: 1.02216\n",
            "[25,  4000] loss: 0.02649\n",
            "[25,  4000] temperature: 1.02293\n",
            "[25,  6000] loss: 0.01652\n",
            "[25,  6000] temperature: 1.02297\n",
            "[25,  8000] loss: 0.01951\n",
            "[25,  8000] temperature: 1.02346\n",
            "[25, 10000] loss: 0.02698\n",
            "[25, 10000] temperature: 1.02442\n",
            "[25, 12000] loss: 0.02198\n",
            "[25, 12000] temperature: 1.02449\n",
            "[26,  2000] loss: 0.01560\n",
            "[26,  2000] temperature: 1.02475\n",
            "[26,  4000] loss: 0.01069\n",
            "[26,  4000] temperature: 1.02481\n",
            "[26,  6000] loss: 0.02484\n",
            "[26,  6000] temperature: 1.02586\n",
            "[26,  8000] loss: 0.02173\n",
            "[26,  8000] temperature: 1.02629\n",
            "[26, 10000] loss: 0.02016\n",
            "[26, 10000] temperature: 1.02699\n",
            "[26, 12000] loss: 0.02006\n",
            "[26, 12000] temperature: 1.02753\n",
            "[27,  2000] loss: 0.01435\n",
            "[27,  2000] temperature: 1.02795\n",
            "[27,  4000] loss: 0.01830\n",
            "[27,  4000] temperature: 1.02850\n",
            "[27,  6000] loss: 0.01965\n",
            "[27,  6000] temperature: 1.02905\n",
            "[27,  8000] loss: 0.01753\n",
            "[27,  8000] temperature: 1.02946\n",
            "[27, 10000] loss: 0.02771\n",
            "[27, 10000] temperature: 1.03027\n",
            "[27, 12000] loss: 0.00920\n",
            "[27, 12000] temperature: 1.03008\n",
            "[28,  2000] loss: 0.01026\n",
            "[28,  2000] temperature: 1.03069\n",
            "[28,  4000] loss: 0.02149\n",
            "[28,  4000] temperature: 1.03117\n",
            "[28,  6000] loss: 0.02408\n",
            "[28,  6000] temperature: 1.03176\n",
            "[28,  8000] loss: 0.01006\n",
            "[28,  8000] temperature: 1.03162\n",
            "[28, 10000] loss: 0.02366\n",
            "[28, 10000] temperature: 1.03233\n",
            "[28, 12000] loss: 0.00981\n",
            "[28, 12000] temperature: 1.03279\n",
            "[29,  2000] loss: 0.02103\n",
            "[29,  2000] temperature: 1.03374\n",
            "[29,  4000] loss: 0.02134\n",
            "[29,  4000] temperature: 1.03425\n",
            "[29,  6000] loss: 0.01566\n",
            "[29,  6000] temperature: 1.03418\n",
            "[29,  8000] loss: 0.02017\n",
            "[29,  8000] temperature: 1.03503\n",
            "[29, 10000] loss: 0.02094\n",
            "[29, 10000] temperature: 1.03543\n",
            "[29, 12000] loss: 0.00897\n",
            "[29, 12000] temperature: 1.03542\n",
            "[30,  2000] loss: 0.02184\n",
            "[30,  2000] temperature: 1.03632\n",
            "[30,  4000] loss: 0.01093\n",
            "[30,  4000] temperature: 1.03650\n",
            "[30,  6000] loss: 0.01744\n",
            "[30,  6000] temperature: 1.03714\n",
            "[30,  8000] loss: 0.02274\n",
            "[30,  8000] temperature: 1.03728\n",
            "[30, 10000] loss: 0.02100\n",
            "[30, 10000] temperature: 1.03796\n",
            "[30, 12000] loss: 0.01432\n",
            "[30, 12000] temperature: 1.03828\n",
            "Learnable_lut_model Finished Training\n"
          ],
          "name": "stdout"
        }
      ]
    },
    {
      "cell_type": "code",
      "metadata": {
        "id": "QpbDUZ6k_CI7",
        "colab": {
          "base_uri": "https://localhost:8080/",
          "height": 282
        },
        "outputId": "e93dea4b-bde7-43ac-a366-6b105b991685"
      },
      "source": [
        "fig, ax = plt.subplots(nrows=1, ncols=1,figsize=(6,4))\n",
        "ax.plot(Loss_Learnable_Model, Color='magenta', label='Learnable_lut_model train loss')\n",
        "ax.set_xlabel(\"Iteration\", fontsize=12)\n",
        "ax.set_ylabel(\"Loss\", fontsize=12)\n",
        "# ax.set_title(\"Linear Model\", fontsize=16)\n",
        "ax.grid()\n",
        "ax.legend()\n",
        "# ax.yaxis.set_major_locator(y_major_locator)\n",
        "plt.show()"
      ],
      "execution_count": 12,
      "outputs": [
        {
          "output_type": "display_data",
          "data": {
            "image/png": "[encoded data removed]",
            "text/plain": [
              "<Figure size 432x288 with 1 Axes>"
            ]
          },
          "metadata": {
            "tags": [],
            "needs_background": "light"
          }
        }
      ]
    },
    {
      "cell_type": "code",
      "metadata": {
        "id": "441xtpHFqB9m",
        "colab": {
          "base_uri": "https://localhost:8080/",
          "height": 285
        },
        "outputId": "cb02ed43-8be9-4f20-cc85-4556b5c4f5ea"
      },
      "source": [
        "fig, ax = plt.subplots(nrows=1, ncols=1,figsize=(6,4))\n",
        "ax.plot(Temperature, Color='blue', label='Temperature')\n",
        "ax.set_xlabel(\"Iteration\", fontsize=12)\n",
        "ax.set_ylabel(\"Temperature\", fontsize=12)\n",
        "# ax.set_title(\"Linear Model\", fontsize=16)\n",
        "ax.grid()\n",
        "ax.legend()\n",
        "# ax.yaxis.set_major_locator(y_major_locator)\n",
        "plt.show()"
      ],
      "execution_count": 13,
      "outputs": [
        {
          "output_type": "display_data",
          "data": {
            "image/png": "[encoded data removed]",
            "text/plain": [
              "<Figure size 432x288 with 1 Axes>"
            ]
          },
          "metadata": {
            "tags": [],
            "needs_background": "light"
          }
        }
      ]
    },
    {
      "cell_type": "code",
      "metadata": {
        "colab": {
          "base_uri": "https://localhost:8080/"
        },
        "id": "QwrqQrHWVlYR",
        "outputId": "69e68a02-0956-4145-d671-0630208ab53a"
      },
      "source": [
        "correct = 0\n",
        "total = 0\n",
        "learnable_lut_model.eval()\n",
        "for data in testloader:\n",
        "    images, labels = data\n",
        "    images, labels = images.to(device), labels.to(device)\n",
        "    outputs = learnable_lut_model(images)\n",
        "    _, predicted = torch.max(outputs.data, 1)\n",
        "    total += labels.size(0)\n",
        "    correct += (predicted == labels).sum().item()\n",
        "\n",
        "print('Accuracy of the network on the 10000 test images: %.2f %%' % (\n",
        "    100 * correct / total))"
      ],
      "execution_count": 14,
      "outputs": [
        {
          "output_type": "stream",
          "text": [
            "Accuracy of the network on the 10000 test images: 88.65 %\n"
          ],
          "name": "stdout"
        }
      ]
    },
    {
      "cell_type": "code",
      "metadata": {
        "id": "gl7e1OTmrj0v"
      },
      "source": [
        "class AnnealingLookUpTable(nn.Module):\n",
        "    def __init__(self, num_embeddings: int, embedding_dim: int):\n",
        "        super(AnnealingLookUpTable, self).__init__()\n",
        "        self.embedding_dim = embedding_dim\n",
        "        self.emb = nn.Embedding(num_embeddings, embedding_dim)\n",
        "\n",
        "    def forward(self, x, temperature):\n",
        "        if self.training:\n",
        "          x = softmax_temperature(x, temperature)\n",
        "          return x @ self.emb.weight\n",
        "        else:\n",
        "          # x = softmax_temperature(x, 0.00001)\n",
        "          # x = mapping_onehot_vector(x)\n",
        "          # return self.emb(x)\n",
        "\n",
        "          x = softmax_temperature(x, temperature)\n",
        "          nozero = torch.nonzero(x);\n",
        "          out = np.zeros((x.shape[0], self.embedding_dim))\n",
        "          out = torch.tensor(out).to(device)\n",
        "          # print(np.array(nozero).shape[1])\n",
        "          for i in range(x.shape[0]):\n",
        "            idx = torch.where(nozero[:,0]==i)[0]\n",
        "            rows = nozero[idx, 1].long()\n",
        "            out[i] = torch.mean(self.emb(rows), axis=0)\n",
        "          return out.float()"
      ],
      "execution_count": 15,
      "outputs": []
    },
    {
      "cell_type": "code",
      "metadata": {
        "id": "d5R4HiLbrzG3"
      },
      "source": [
        "class Annealing_VGG_LookUpTable(nn.Module):\n",
        "  def __init__(self, originalModel):\n",
        "    super(Annealing_VGG_LookUpTable, self).__init__()\n",
        "    # self.features = originalModel.features\n",
        "    # self.avgpool = originalModel.avgpool\n",
        "    self.vgg = nn.Sequential(*list(originalModel.children())[:-1])\n",
        "    # self.classifier = originalModel.classifier\n",
        "    self.look_up_table = AnnealingLookUpTable(25088, 4096)\n",
        "    self.classifier = nn.Sequential(*list(originalModel.classifier.children())[1:])\n",
        "    \n",
        "  def forward(self, x, temperature):\n",
        "    # x = self.features(x)\n",
        "    # x = self.avgpool(x)\n",
        "    x = self.vgg(x)\n",
        "    x = x.view(x.size(0), -1)\n",
        "    x = self.look_up_table(x, temperature)\n",
        "    x = self.classifier(x)\n",
        "    return x"
      ],
      "execution_count": 16,
      "outputs": []
    },
    {
      "cell_type": "code",
      "metadata": {
        "colab": {
          "base_uri": "https://localhost:8080/"
        },
        "id": "lM2zbdVmsBbj",
        "outputId": "aa9cc489-9aa5-4c37-9ee9-1b366d19c4b0"
      },
      "source": [
        "pre_model = models.vgg16(pretrained=True)  # 使用VGG16 网络预训练好的模型\n",
        "for parma in pre_model.parameters():  # 设置自动梯度为false\n",
        "    parma.requires_grad = True\n",
        "Annealing_lut_model = Annealing_VGG_LookUpTable(pre_model).to(device)\n",
        "\n",
        "epoches = 30  #Training times\n",
        "learning_rate = 1e-5  #Learning rate\n",
        "\n",
        "criterion = nn.CrossEntropyLoss()\n",
        "optimizer = optim.Adam(Annealing_lut_model.parameters(), lr=learning_rate)\n",
        "Loss_Annealing_Model = []\n",
        "idx = 0\n",
        "\n",
        "print('Loss_Annealing_Model Started Training')\n",
        "for epoch in range(epoches):    #Iteration\n",
        "    running_loss = 0.0\n",
        "    for i, data in enumerate(trainloader, 0):\n",
        "        idx = idx + 1\n",
        "        inputs, labels = data\n",
        "                 #Initialize gradient\n",
        "        optimizer.zero_grad()\n",
        "        outputs = Annealing_lut_model(inputs.to(device), torch.tensor(max(0.0001, math.exp(-1.4 * math.pow(10, -5) * idx)), device= device))\n",
        "        loss = criterion(outputs, labels.to(device))\n",
        "        loss.backward()\n",
        "        optimizer.step()\n",
        "\n",
        "        # for parameter in optimizer.param_groups[0]['params']:\n",
        "        #   print(np.any(parameter.grad.cpu().numpy()==0))\n",
        "\n",
        "        # Print loss\n",
        "        running_loss += loss.item()\n",
        "        if i % 2000 == 1999:    # print every 2000 mini-batches\n",
        "            print('[%d, %5d] loss: %.5f' %\n",
        "                  (epoch + 1, i + 1, running_loss / 2000))\n",
        "            Loss_Annealing_Model.append(running_loss)\n",
        "            running_loss = 0.0\n",
        "\n",
        "print('Loss_Annealing_Model Finished Training')"
      ],
      "execution_count": 28,
      "outputs": [
        {
          "output_type": "stream",
          "text": [
            "Loss_Annealing_Model Started Training\n",
            "[1,  2000] loss: 3.11555\n",
            "[1,  4000] loss: 2.34511\n",
            "[1,  6000] loss: 2.34364\n",
            "[1,  8000] loss: 2.05007\n",
            "[1, 10000] loss: 1.63050\n",
            "[1, 12000] loss: 1.39897\n",
            "[2,  2000] loss: 1.12111\n",
            "[2,  4000] loss: 1.02716\n",
            "[2,  6000] loss: 0.95111\n",
            "[2,  8000] loss: 0.82554\n",
            "[2, 10000] loss: 0.74199\n",
            "[2, 12000] loss: 0.66303\n",
            "[3,  2000] loss: 0.50422\n",
            "[3,  4000] loss: 0.47724\n",
            "[3,  6000] loss: 0.45666\n",
            "[3,  8000] loss: 0.44798\n",
            "[3, 10000] loss: 0.43532\n",
            "[3, 12000] loss: 0.42231\n",
            "[4,  2000] loss: 0.27615\n",
            "[4,  4000] loss: 0.28397\n",
            "[4,  6000] loss: 0.27278\n",
            "[4,  8000] loss: 0.27638\n",
            "[4, 10000] loss: 0.29253\n",
            "[4, 12000] loss: 0.28832\n",
            "[5,  2000] loss: 0.15602\n",
            "[5,  4000] loss: 0.17135\n",
            "[5,  6000] loss: 0.17563\n",
            "[5,  8000] loss: 0.17028\n",
            "[5, 10000] loss: 0.17346\n",
            "[5, 12000] loss: 0.17574\n",
            "[6,  2000] loss: 0.09622\n",
            "[6,  4000] loss: 0.10634\n",
            "[6,  6000] loss: 0.11049\n",
            "[6,  8000] loss: 0.10961\n",
            "[6, 10000] loss: 0.11383\n",
            "[6, 12000] loss: 0.12097\n",
            "[7,  2000] loss: 0.06110\n",
            "[7,  4000] loss: 0.07091\n",
            "[7,  6000] loss: 0.06827\n",
            "[7,  8000] loss: 0.08248\n",
            "[7, 10000] loss: 0.08234\n",
            "[7, 12000] loss: 0.08477\n",
            "[8,  2000] loss: 0.05007\n",
            "[8,  4000] loss: 0.06147\n",
            "[8,  6000] loss: 0.05447\n",
            "[8,  8000] loss: 0.06016\n",
            "[8, 10000] loss: 0.07346\n",
            "[8, 12000] loss: 0.06069\n",
            "[9,  2000] loss: 0.04202\n",
            "[9,  4000] loss: 0.05258\n",
            "[9,  6000] loss: 0.05321\n",
            "[9,  8000] loss: 0.06152\n",
            "[9, 10000] loss: 0.04386\n",
            "[9, 12000] loss: 0.04807\n",
            "[10,  2000] loss: 0.03010\n",
            "[10,  4000] loss: 0.03873\n",
            "[10,  6000] loss: 0.04418\n",
            "[10,  8000] loss: 0.06083\n",
            "[10, 10000] loss: 0.03909\n",
            "[10, 12000] loss: 0.04862\n",
            "[11,  2000] loss: 0.03127\n",
            "[11,  4000] loss: 0.04550\n",
            "[11,  6000] loss: 0.04562\n",
            "[11,  8000] loss: 0.05236\n",
            "[11, 10000] loss: 0.03905\n",
            "[11, 12000] loss: 0.05032\n",
            "[12,  2000] loss: 0.03915\n",
            "[12,  4000] loss: 0.03581\n",
            "[12,  6000] loss: 0.04250\n",
            "[12,  8000] loss: 0.05770\n",
            "[12, 10000] loss: 0.03737\n",
            "[12, 12000] loss: 0.04474\n",
            "[13,  2000] loss: 0.03595\n",
            "[13,  4000] loss: 0.03705\n",
            "[13,  6000] loss: 0.03767\n",
            "[13,  8000] loss: 0.03872\n",
            "[13, 10000] loss: 0.03604\n",
            "[13, 12000] loss: 0.04041\n",
            "[14,  2000] loss: 0.03030\n",
            "[14,  4000] loss: 0.03733\n",
            "[14,  6000] loss: 0.03409\n",
            "[14,  8000] loss: 0.04683\n",
            "[14, 10000] loss: 0.04333\n",
            "[14, 12000] loss: 0.03407\n",
            "[15,  2000] loss: 0.02698\n",
            "[15,  4000] loss: 0.03767\n",
            "[15,  6000] loss: 0.03565\n",
            "[15,  8000] loss: 0.03990\n",
            "[15, 10000] loss: 0.03887\n",
            "[15, 12000] loss: 0.05399\n",
            "[16,  2000] loss: 0.02710\n",
            "[16,  4000] loss: 0.03484\n",
            "[16,  6000] loss: 0.03328\n",
            "[16,  8000] loss: 0.04519\n",
            "[16, 10000] loss: 0.04918\n",
            "[16, 12000] loss: 0.04383\n",
            "[17,  2000] loss: 0.04085\n",
            "[17,  4000] loss: 0.02893\n",
            "[17,  6000] loss: 0.03673\n",
            "[17,  8000] loss: 0.03765\n",
            "[17, 10000] loss: 0.02810\n",
            "[17, 12000] loss: 0.04705\n",
            "[18,  2000] loss: 0.03680\n",
            "[18,  4000] loss: 0.03550\n",
            "[18,  6000] loss: 0.04329\n",
            "[18,  8000] loss: 0.04650\n",
            "[18, 10000] loss: 0.04402\n",
            "[18, 12000] loss: 0.04354\n",
            "[19,  2000] loss: 0.03802\n",
            "[19,  4000] loss: 0.03334\n",
            "[19,  6000] loss: 0.05539\n",
            "[19,  8000] loss: 0.04508\n",
            "[19, 10000] loss: 0.03950\n",
            "[19, 12000] loss: 0.04463\n",
            "[20,  2000] loss: 0.04065\n",
            "[20,  4000] loss: 0.03818\n",
            "[20,  6000] loss: 0.03831\n",
            "[20,  8000] loss: 0.04318\n",
            "[20, 10000] loss: 0.04346\n",
            "[20, 12000] loss: 0.03653\n",
            "[21,  2000] loss: 0.03548\n",
            "[21,  4000] loss: 0.04037\n",
            "[21,  6000] loss: 0.03865\n",
            "[21,  8000] loss: 0.04942\n",
            "[21, 10000] loss: 0.04190\n",
            "[21, 12000] loss: 0.03823\n",
            "[22,  2000] loss: 0.03867\n",
            "[22,  4000] loss: 0.03394\n",
            "[22,  6000] loss: 0.04666\n",
            "[22,  8000] loss: 0.03705\n",
            "[22, 10000] loss: 0.05045\n",
            "[22, 12000] loss: 0.04943\n",
            "[23,  2000] loss: 0.04215\n",
            "[23,  4000] loss: 0.04979\n",
            "[23,  6000] loss: 0.04288\n",
            "[23,  8000] loss: 0.04079\n",
            "[23, 10000] loss: 0.04339\n",
            "[23, 12000] loss: 0.04005\n",
            "[24,  2000] loss: 0.05005\n",
            "[24,  4000] loss: 0.04861\n",
            "[24,  6000] loss: 0.04068\n",
            "[24,  8000] loss: 0.03291\n",
            "[24, 10000] loss: 0.04780\n",
            "[24, 12000] loss: 0.06482\n",
            "[25,  2000] loss: 0.04340\n",
            "[25,  4000] loss: 0.03835\n",
            "[25,  6000] loss: 0.04051\n",
            "[25,  8000] loss: 0.05771\n",
            "[25, 10000] loss: 0.05712\n",
            "[25, 12000] loss: 0.05136\n",
            "[26,  2000] loss: 0.03511\n",
            "[26,  4000] loss: 0.06831\n",
            "[26,  6000] loss: 0.05097\n",
            "[26,  8000] loss: 0.05221\n",
            "[26, 10000] loss: 0.04850\n",
            "[26, 12000] loss: 0.07440\n",
            "[27,  2000] loss: 0.04952\n",
            "[27,  4000] loss: 0.04309\n",
            "[27,  6000] loss: 0.05457\n",
            "[27,  8000] loss: 0.04413\n",
            "[27, 10000] loss: 0.06191\n",
            "[27, 12000] loss: 0.05722\n",
            "[28,  2000] loss: 0.06199\n",
            "[28,  4000] loss: 0.04004\n",
            "[28,  6000] loss: 0.05393\n",
            "[28,  8000] loss: 0.05238\n",
            "[28, 10000] loss: 0.07817\n",
            "[28, 12000] loss: 0.04158\n",
            "[29,  2000] loss: 0.04799\n",
            "[29,  4000] loss: 0.05773\n",
            "[29,  6000] loss: 0.06956\n",
            "[29,  8000] loss: 0.05695\n",
            "[29, 10000] loss: 0.07697\n",
            "[29, 12000] loss: 0.06275\n",
            "[30,  2000] loss: 0.06647\n",
            "[30,  4000] loss: 0.05191\n",
            "[30,  6000] loss: 0.08275\n",
            "[30,  8000] loss: 0.07390\n",
            "[30, 10000] loss: 0.06940\n",
            "[30, 12000] loss: 0.08001\n",
            "Loss_Annealing_Model Finished Training\n"
          ],
          "name": "stdout"
        }
      ]
    },
    {
      "cell_type": "code",
      "metadata": {
        "colab": {
          "base_uri": "https://localhost:8080/"
        },
        "id": "Uym5WF5yV0Qu",
        "outputId": "f8ec0a05-612e-4c28-e296-45a49985a99c"
      },
      "source": [
        "correct = 0\n",
        "total = 0\n",
        "Annealing_lut_model.eval()\n",
        "for data in testloader:\n",
        "    images, labels = data\n",
        "    images, labels = images.to(device), labels.to(device)\n",
        "    outputs = Annealing_lut_model(images, 0.0001)\n",
        "    _, predicted = torch.max(outputs.data, 1)\n",
        "    total += labels.size(0)\n",
        "    correct += (predicted == labels).sum().item()\n",
        "\n",
        "print('Accuracy of the network on the 10000 test images: %.2f %%' % (\n",
        "    100 * correct / total))"
      ],
      "execution_count": 37,
      "outputs": [
        {
          "output_type": "stream",
          "text": [
            "Accuracy of the network on the 10000 test images: 84.01 %\n"
          ],
          "name": "stdout"
        }
      ]
    },
    {
      "cell_type": "code",
      "metadata": {
        "colab": {
          "base_uri": "https://localhost:8080/"
        },
        "id": "D3zv76QvnDIY",
        "outputId": "1bab2677-3e16-48d3-a9d8-696b125a7e3a"
      },
      "source": [
        "print(idx)\n",
        "print(math.exp(-1.4 * math.pow(10, -5) * idx))"
      ],
      "execution_count": 30,
      "outputs": [
        {
          "output_type": "stream",
          "text": [
            "375000\n",
            "0.005247518399181385\n"
          ],
          "name": "stdout"
        }
      ]
    },
    {
      "cell_type": "code",
      "metadata": {
        "colab": {
          "base_uri": "https://localhost:8080/",
          "height": 880
        },
        "id": "z_87eM4drAvA",
        "outputId": "dbfd3cd4-1637-4cce-adcb-9f6b078afdaf"
      },
      "source": [
        "fig, ax = plt.subplots(nrows=1, ncols=1,figsize=(20,15))\n",
        "ax.plot(Loss_Baseline_Model, Color='green', label='BaseLine_Mode train loss')\n",
        "ax.plot(Loss_Learnable_Model, Color='magenta', label='Learnable_Model train loss')\n",
        "ax.plot(Loss_Annealing_Model, Color='blue', label='Annealing_Model train loss')\n",
        "ax.set_xlabel(\"Iteration\", fontsize=12)\n",
        "ax.set_ylabel(\"Loss\", fontsize=12)\n",
        "# ax.set_title(\"Linear Model\", fontsize=16)\n",
        "ax.grid()\n",
        "ax.legend()\n",
        "# ax.yaxis.set_major_locator(y_major_locator)\n",
        "plt.show()"
      ],
      "execution_count": 44,
      "outputs": [
        {
          "output_type": "display_data",
          "data": {
            "image/png": "[encoded data removed]",
            "text/plain": [
              "<Figure size 1440x1080 with 1 Axes>"
            ]
          },
          "metadata": {
            "tags": [],
            "needs_background": "light"
          }
        }
      ]
    },
    {
      "cell_type": "code",
      "metadata": {
        "colab": {
          "base_uri": "https://localhost:8080/"
        },
        "id": "RvVBP3wctH-D",
        "outputId": "06339033-089b-41ad-99ed-b014d6fb9d39"
      },
      "source": [
        "logits = torch.FloatTensor([1, 2, 3, 4])\n",
        "\n",
        "low_temp = 0.5\n",
        "logits_low_temp = F.softmax(logits / low_temp, dim=-1)\n",
        "print(logits_low_temp)"
      ],
      "execution_count": 32,
      "outputs": [
        {
          "output_type": "stream",
          "text": [
            "tensor([0.0021, 0.0158, 0.1171, 0.8650])\n"
          ],
          "name": "stdout"
        }
      ]
    },
    {
      "cell_type": "code",
      "metadata": {
        "colab": {
          "base_uri": "https://localhost:8080/"
        },
        "id": "zqZfIaQotIYo",
        "outputId": "094d31df-ba8e-4b1d-a74b-b02e3de8cc87"
      },
      "source": [
        "high_temp = 5\n",
        "logits_high_temp = F.softmax(logits / high_temp, dim=-1)\n",
        "print(logits_high_temp)"
      ],
      "execution_count": 33,
      "outputs": [
        {
          "output_type": "stream",
          "text": [
            "tensor([0.1807, 0.2207, 0.2695, 0.3292])\n"
          ],
          "name": "stdout"
        }
      ]
    },
    {
      "cell_type": "code",
      "metadata": {
        "id": "XiyTedM-VCOo",
        "outputId": "8fee2d19-0248-4c6d-8e97-1eced9572a49",
        "colab": {
          "base_uri": "https://localhost:8080/"
        }
      },
      "source": [
        "print(Loss_Baseline_Model)"
      ],
      "execution_count": 38,
      "outputs": [
        {
          "output_type": "stream",
          "text": [
            "[3872.4723823554814, 1863.5793002019636, 1501.223158330802, 1349.2540111092385, 1221.8130096917157, 1118.8604160515824, 859.1576800966432, 859.8661447088098, 819.6694815727824, 827.1000121614488, 798.2041533824977, 808.4048638707463, 498.0559452059506, 527.3723640723008, 558.3351522767725, 526.0050897749522, 521.1613981830073, 520.7777481278794, 308.995667043178, 301.2820669818178, 336.91673734006577, 360.1487615352137, 359.5988904956185, 328.53010717166296, 179.61531050015392, 234.69278697661755, 220.69319845028116, 238.96496242420662, 231.45076282694504, 232.93256985726043, 139.0307325424412, 171.09906588262777, 160.53744012389538, 177.01450049418492, 171.83414549059944, 167.54262140477843, 119.0473997492023, 142.78874401193275, 140.93155763452728, 111.74711841836245, 138.90022822534632, 174.03522936781852, 97.02349838853645, 101.2056621288282, 108.33963276619366, 136.8385455312183, 118.43028946202854, 118.41986965166821, 73.5163950850706, 115.02205457964922, 91.50348705507238, 119.80242552370741, 107.13343405102194, 109.0910082612557, 74.33901712564789, 120.6939232646156, 86.95020424352555, 92.70516228477008, 106.7124025397303, 100.71564648983806, 71.7150446519288, 92.8872870723505, 86.63256498497988, 81.5237209491748, 103.00146288429349, 83.09606986221122, 85.25948916934121, 73.86067596473012, 79.03808763315368, 102.18404999074914, 91.42716348980068, 116.47785726175437, 68.41375367630152, 72.39254919790348, 81.00756056757008, 71.13493533454465, 116.27289914695004, 65.36616816252592, 74.95805117974577, 76.41879002485568, 68.59389631393041, 85.5210969196366, 74.2178501904765, 82.65740841028313, 78.63777634770949, 76.3299671442571, 71.79690761218612, 77.2477860079891, 85.94890044890931, 81.18688872279014, 88.60264125410002, 70.71979611234062, 77.41422285909461, 73.11868273872469, 64.26316343510287, 85.48847266865883, 48.033256053277825, 68.8297884905351, 70.19767597626904, 70.26955642649907, 61.94714754030673, 83.71710877128146, 46.837729820042135, 60.80186155515577, 81.47671269143744, 62.15326320772972, 75.67200374030517, 64.25088928063101, 49.05531776589211, 74.50230784857231, 111.5000207416035, 38.05799335901368, 82.29446302157078, 78.14539487217668, 38.560025261562394, 67.89774180858927, 73.75660533415126, 51.43208889767011, 105.70880510860391, 57.26538708586227, 72.58460400227199, 80.55776796775183, 45.673699569412115, 71.16718857076746, 73.66752777449386, 65.60420585310555, 61.228733935776766, 88.31739258108242, 55.88725032705219, 53.92037847424534, 100.48639461082166, 52.348766497907924, 50.63496010933789, 64.97323900253372, 63.625485928795015, 84.10255521979805, 75.63185398070425, 77.61983518585345, 56.132284707157176, 57.880874650302346, 91.22726258797564, 33.74433204822284, 53.28653791773909, 52.28676061980773, 58.88773025918036, 55.66815090888062, 62.69080931682161, 74.16834447087987, 65.75812045618105, 67.95539466688797, 72.76688934538996, 56.12244327387029, 91.9202623781264, 85.65937123884827, 53.307323940468684, 63.6229596697874, 40.39740958167532, 80.01023471952533, 37.78564058132689, 78.21692691462815, 74.82348729854468, 40.94175500150646, 67.85877886746286, 34.610651907377935, 57.474017339509906, 77.34275181206267, 80.36154955952887, 53.94306080083566, 43.62253291878008, 63.98891109764693, 46.91025066342119, 62.330327706064466, 91.10551972327882, 66.35640866559999, 59.502002995624984, 52.99414607845551, 54.474197417679804, 46.02516831444183, 68.90880281632244, 65.77219594388546]\n"
          ],
          "name": "stdout"
        }
      ]
    },
    {
      "cell_type": "code",
      "metadata": {
        "id": "4NhHq6iVVE4P",
        "outputId": "1d0f0a48-d635-477a-ead8-0f5a74c91433",
        "colab": {
          "base_uri": "https://localhost:8080/"
        }
      },
      "source": [
        "print(Loss_Learnable_Model)"
      ],
      "execution_count": 39,
      "outputs": [
        {
          "output_type": "stream",
          "text": [
            "[6212.137823939323, 4689.819548845291, 3835.760307788849, 3095.6531695127487, 2816.142440855503, 2574.7640249729156, 2297.180137991905, 2139.2169994413853, 2030.0441165566444, 1690.7630194425583, 1361.949716359377, 1292.7211251929402, 973.9023675331846, 975.6482531530783, 886.8227000329643, 939.5573817854747, 899.8487724782899, 858.8820755546913, 595.1703743245453, 624.4764438553248, 607.0883182948455, 588.2957721748389, 613.2360910349526, 605.9834671209101, 388.4097411748953, 407.37585869571194, 396.7979876487516, 389.64830555883236, 396.1113784094341, 394.3182215037523, 252.3591319003026, 267.4459488361899, 260.20063259539893, 284.0571354191634, 260.405598602767, 269.4163694730669, 160.7044197198702, 195.61299871242954, 191.46402162931918, 185.99093928234652, 179.13650948031864, 202.78649691299506, 109.70876720805973, 118.22431438843341, 151.27373009996518, 154.23891497226214, 137.5814643246631, 148.10607673851155, 105.06861610508349, 111.35470533634361, 125.58070031628449, 108.96840128941403, 123.03943383180376, 110.09879583541169, 95.42422875816919, 94.26651898704586, 105.07484752259552, 105.29430524571217, 109.46808840766062, 105.52857031385247, 95.1211090495508, 87.10136637810137, 81.15566907352513, 88.30897044225912, 92.00560976927954, 79.06364886554275, 72.87489205952716, 84.17281498642433, 84.89272049971078, 87.85826579639206, 92.3493723241545, 62.88610617472159, 53.81888038313876, 65.67493129069464, 76.38767384195233, 62.593316651053044, 81.90145488356484, 82.97710066113677, 59.84626862111463, 69.63320644265218, 48.21090318258871, 62.85314696564046, 89.05767118638471, 64.64446237797387, 45.78992615851075, 54.48879579699458, 60.4778020250439, 59.55159997983844, 71.35787641681304, 55.00673307860822, 57.1110934396188, 56.55424746946767, 52.71226132043239, 50.51277263482848, 49.193842625195785, 71.20184890251079, 40.52230848822151, 39.26277550947154, 66.89093888786225, 46.72631725759691, 42.51123091218835, 57.96290877966368, 42.218622467466446, 69.438961181754, 35.0262669249168, 45.81295279933511, 55.05740551645599, 47.08754278184797, 50.36186095196342, 61.26293144835614, 35.47902050779794, 43.20892465110043, 58.58281717359756, 45.01439590518328, 69.24433032744935, 37.79203931229202, 51.89790377389874, 47.76425655785906, 53.20411532130366, 53.69322464346675, 22.920748066101048, 35.26002254648773, 57.522474578564754, 35.10397905402275, 63.99781816286833, 37.98736877688238, 43.732989175573486, 43.448189963089206, 54.336775284007985, 41.79671146354167, 45.21930541816472, 33.40986497355907, 35.99930419522471, 41.58883331481143, 38.385960624099745, 52.32445651491808, 54.324965394975756, 39.0148264122425, 30.171574600751512, 41.9790742561806, 33.9996152667441, 26.412510816573352, 55.86597015974281, 44.46255237818826, 32.68804222793181, 52.97323773818024, 33.045870668412334, 39.01034161493787, 53.95942491932061, 43.955829118745704, 31.203081911408802, 21.38146838578358, 49.68021484688384, 43.468584698289774, 40.31996255117724, 40.11141857771403, 28.69335275445714, 36.59136573031253, 39.29623337180672, 35.056964611190786, 55.42968761897522, 18.39460391637514, 20.52764449063534, 42.98221463087579, 48.16276641117669, 20.124605049740296, 47.31239208553568, 19.624705581052865, 42.062905458794056, 42.67677137083652, 31.325026984392945, 40.344050626845224, 41.8741307968726, 17.934331924844138, 43.67056530231875, 21.866402292821085, 34.88604005540979, 45.487474598246, 42.008949378079954, 28.6492924542163]\n"
          ],
          "name": "stdout"
        }
      ]
    },
    {
      "cell_type": "code",
      "metadata": {
        "id": "LPnCo8sYVH8I",
        "outputId": "2355681d-d2bd-4381-bf48-1a7a256e72b8",
        "colab": {
          "base_uri": "https://localhost:8080/"
        }
      },
      "source": [
        "print(Loss_Annealing_Model)"
      ],
      "execution_count": 40,
      "outputs": [
        {
          "output_type": "stream",
          "text": [
            "[6231.092164993286, 4690.212652802467, 4687.280135750771, 4100.131859660149, 3260.990114212036, 2797.9389079511166, 2242.2153088748455, 2054.326329395175, 1902.2268817424774, 1651.0858060084283, 1483.9742424245924, 1326.0508961277083, 1008.449092803523, 954.4897480243817, 913.322356577497, 895.9502169264015, 870.6353339552879, 844.6116244744044, 552.3058530569542, 567.9375108380336, 545.5687112492742, 552.76754801278, 585.0532651745016, 576.6419852110557, 312.03054498974234, 342.70576283481205, 351.26043109592865, 340.555844418559, 346.91504351084586, 351.47508456831565, 192.43178626976442, 212.68704608397093, 220.97180833879975, 219.21986336936243, 227.65297506190836, 241.9382052024448, 122.19085505481053, 141.81727216899162, 136.53786210238468, 164.95525408505637, 164.67899104962999, 169.54875132197049, 100.14821060928807, 122.93376173271099, 108.93345714772295, 120.32376036408095, 146.91766293521505, 121.38307090081071, 84.03621486754855, 105.16295000497485, 106.42995667358628, 123.04830170256173, 87.72030229902884, 96.14520392541817, 60.20757265454449, 77.46870327835131, 88.35191826517257, 121.65930177731207, 78.17798579139344, 97.23157603420987, 62.5323615134148, 90.99251723841735, 91.23599135463155, 104.7271377016732, 78.0932487523387, 100.64331095875968, 78.29763677970186, 71.62549236315317, 85.00378897006522, 115.39051939186174, 74.74071970650039, 89.47360172781919, 71.90477365828883, 74.09583036621189, 75.33846009565968, 77.4318645712483, 72.07530027376743, 80.82826714703697, 60.59188737144723, 74.65339221247632, 68.18054924989156, 93.664784394643, 86.66175408853087, 68.13191204388022, 53.96841225976459, 75.34278068234198, 71.30496257489176, 79.80423589825477, 77.74051723857065, 107.97372066470052, 54.20786864580441, 69.6837667351756, 66.55868085013026, 90.38735349702256, 98.36672773450118, 87.65911394064278, 81.70094158377287, 57.859405776099265, 73.4560215423353, 75.29086695590559, 56.202124666655436, 94.10987959777412, 73.60529915317966, 70.99814849329505, 86.58664091928222, 93.00180874876241, 88.0331976942307, 87.07355485171229, 76.03164920909057, 66.67554526828735, 110.78660140763168, 90.16586836248098, 79.00909572859382, 89.25493579963404, 81.30645393086161, 76.35364136417411, 76.62280708688377, 86.35228715305493, 86.9142921979601, 73.05877618660634, 70.96011568990343, 80.73401290960646, 77.30651834688979, 98.83511892082788, 83.79546108726026, 76.46075602175915, 77.3393502383442, 67.87405310929898, 93.32102540881488, 74.10170905415998, 100.89563251015898, 98.85616939654483, 84.29354021706331, 99.57316583661668, 85.75901075950969, 81.58517681305602, 86.77166991368995, 80.10382615208982, 100.10468119212237, 97.22514132486322, 81.36347216836111, 65.81457608847631, 95.59881529698396, 129.63253601994984, 86.80205378886967, 76.70745454192001, 81.01889426447997, 115.42929298023591, 114.23281280201263, 102.72647781715568, 70.21961218379874, 136.6116321048321, 101.93232905594141, 104.42025103644846, 97.00132614474205, 148.7955919936794, 99.0442544215548, 86.18047041375394, 109.13569476468183, 88.25236125586162, 123.8237065694666, 114.44588558723626, 123.97805382693696, 80.07164347153775, 107.8556060194278, 104.7514592457992, 156.34313712380572, 83.16749953178805, 95.9877470912179, 115.46795574127464, 139.1147727615462, 113.89938317714405, 153.9400667953305, 125.5068986740298, 132.9425539704389, 103.81769484770302, 165.49791783306136, 147.7970235398243, 138.80470542560215, 160.01104389246757]\n"
          ],
          "name": "stdout"
        }
      ]
    },
    {
      "cell_type": "code",
      "metadata": {
        "id": "cL_LESGaVL92",
        "outputId": "70607182-149b-4938-8714-db076e7b2664",
        "colab": {
          "base_uri": "https://localhost:8080/"
        }
      },
      "source": [
        "print(Temperature)"
      ],
      "execution_count": 48,
      "outputs": [
        {
          "output_type": "stream",
          "text": [
            "[array(1.0009549, dtype=float32), array(1.0010239, dtype=float32), array(1.0018402, dtype=float32), array(1.0026482, dtype=float32), array(1.0033563, dtype=float32), array(1.0038255, dtype=float32), array(1.0038658, dtype=float32), array(1.0038241, dtype=float32), array(1.0039233, dtype=float32), array(1.0040168, dtype=float32), array(1.004189, dtype=float32), array(1.0043427, dtype=float32), array(1.0038475, dtype=float32), array(1.0038286, dtype=float32), array(1.0037305, dtype=float32), array(1.0039041, dtype=float32), array(1.0037453, dtype=float32), array(1.0038844, dtype=float32), array(1.0030531, dtype=float32), array(1.0029262, dtype=float32), array(1.002507, dtype=float32), array(1.0024364, dtype=float32), array(1.0022426, dtype=float32), array(1.002375, dtype=float32), array(1.0016472, dtype=float32), array(1.0011163, dtype=float32), array(1.0010129, dtype=float32), array(1.0007724, dtype=float32), array(1.0005331, dtype=float32), array(1.0004547, dtype=float32), array(0.9996466, dtype=float32), array(0.9994368, dtype=float32), array(0.9990147, dtype=float32), array(0.999107, dtype=float32), array(0.99877554, dtype=float32), array(0.99854857, dtype=float32), array(0.99795425, dtype=float32), array(0.99797916, dtype=float32), array(0.9977861, dtype=float32), array(0.99741054, dtype=float32), array(0.9973485, dtype=float32), array(0.9975507, dtype=float32), array(0.99691206, dtype=float32), array(0.99663806, dtype=float32), array(0.9966387, dtype=float32), array(0.9966375, dtype=float32), array(0.99616337, dtype=float32), array(0.99606025, dtype=float32), array(0.9963779, dtype=float32), array(0.9963032, dtype=float32), array(0.99633163, dtype=float32), array(0.99651927, dtype=float32), array(0.9965102, dtype=float32), array(0.99648714, dtype=float32), array(0.99611855, dtype=float32), array(0.99608254, dtype=float32), array(0.996469, dtype=float32), array(0.9964514, dtype=float32), array(0.9967021, dtype=float32), array(0.99705905, dtype=float32), array(0.9972364, dtype=float32), array(0.9976207, dtype=float32), array(0.99767387, dtype=float32), array(0.9973756, dtype=float32), array(0.99776816, dtype=float32), array(0.9977024, dtype=float32), array(0.99788475, dtype=float32), array(0.9982058, dtype=float32), array(0.9982534, dtype=float32), array(0.9986047, dtype=float32), array(0.9987883, dtype=float32), array(0.9984414, dtype=float32), array(0.9985431, dtype=float32), array(0.9987275, dtype=float32), array(0.9990082, dtype=float32), array(0.99903405, dtype=float32), array(0.9993458, dtype=float32), array(1.0000043, dtype=float32), array(1.0001087, dtype=float32), array(1.000766, dtype=float32), array(1.0006988, dtype=float32), array(1.0009079, dtype=float32), array(1.0015279, dtype=float32), array(1.0015041, dtype=float32), array(1.0017262, dtype=float32), array(1.0018572, dtype=float32), array(1.0021768, dtype=float32), array(1.002453, dtype=float32), array(1.0029608, dtype=float32), array(1.0031165, dtype=float32), array(1.0035391, dtype=float32), array(1.0035666, dtype=float32), array(1.0040287, dtype=float32), array(1.0042695, dtype=float32), array(1.0043637, dtype=float32), array(1.0049752, dtype=float32), array(1.0053809, dtype=float32), array(1.0052329, dtype=float32), array(1.0056243, dtype=float32), array(1.0059936, dtype=float32), array(1.0060538, dtype=float32), array(1.0065777, dtype=float32), array(1.0065664, dtype=float32), array(1.0074178, dtype=float32), array(1.0075233, dtype=float32), array(1.0078218, dtype=float32), array(1.0079548, dtype=float32), array(1.0086919, dtype=float32), array(1.0090736, dtype=float32), array(1.0093875, dtype=float32), array(1.0092446, dtype=float32), array(1.0096062, dtype=float32), array(1.0100226, dtype=float32), array(1.0098771, dtype=float32), array(1.0108871, dtype=float32), array(1.0108707, dtype=float32), array(1.0115801, dtype=float32), array(1.0119632, dtype=float32), array(1.0122422, dtype=float32), array(1.0128278, dtype=float32), array(1.0129395, dtype=float32), array(1.0134337, dtype=float32), array(1.0139759, dtype=float32), array(1.0137106, dtype=float32), array(1.014561, dtype=float32), array(1.0146836, dtype=float32), array(1.0149834, dtype=float32), array(1.0156314, dtype=float32), array(1.0159249, dtype=float32), array(1.0164506, dtype=float32), array(1.0165225, dtype=float32), array(1.0166361, dtype=float32), array(1.0173829, dtype=float32), array(1.0179691, dtype=float32), array(1.018366, dtype=float32), array(1.0189825, dtype=float32), array(1.0196124, dtype=float32), array(1.0199639, dtype=float32), array(1.0204426, dtype=float32), array(1.0205668, dtype=float32), array(1.0209278, dtype=float32), array(1.0209789, dtype=float32), array(1.021935, dtype=float32), array(1.0221201, dtype=float32), array(1.0221556, dtype=float32), array(1.0229284, dtype=float32), array(1.0229675, dtype=float32), array(1.0234579, dtype=float32), array(1.0244173, dtype=float32), array(1.0244896, dtype=float32), array(1.0247545, dtype=float32), array(1.0248126, dtype=float32), array(1.0258589, dtype=float32), array(1.0262866, dtype=float32), array(1.0269896, dtype=float32), array(1.027535, dtype=float32), array(1.027953, dtype=float32), array(1.0285012, dtype=float32), array(1.0290529, dtype=float32), array(1.0294577, dtype=float32), array(1.0302675, dtype=float32), array(1.0300756, dtype=float32), array(1.0306858, dtype=float32), array(1.0311738, dtype=float32), array(1.0317628, dtype=float32), array(1.0316209, dtype=float32), array(1.0323313, dtype=float32), array(1.032788, dtype=float32), array(1.0337373, dtype=float32), array(1.0342523, dtype=float32), array(1.0341761, dtype=float32), array(1.0350251, dtype=float32), array(1.0354339, dtype=float32), array(1.0354168, dtype=float32), array(1.0363207, dtype=float32), array(1.0365032, dtype=float32), array(1.0371437, dtype=float32), array(1.0372796, dtype=float32), array(1.0379621, dtype=float32), array(1.0382782, dtype=float32)]\n"
          ],
          "name": "stdout"
        }
      ]
    }
  ]
}