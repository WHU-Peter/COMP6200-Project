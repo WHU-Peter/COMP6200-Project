{
  "nbformat": 4,
  "nbformat_minor": 0,
  "metadata": {
    "colab": {
      "name": "Learnable_Look_up_Table_Block.ipynb",
      "provenance": [],
      "authorship_tag": "ABX9TyPmZJ+6cET9HaLvE66kDtik",
      "include_colab_link": true
    },
    "kernelspec": {
      "name": "python3",
      "display_name": "Python 3"
    },
    "language_info": {
      "name": "python"
    }
  },
  "cells": [
    {
      "cell_type": "markdown",
      "metadata": {
        "id": "view-in-github",
        "colab_type": "text"
      },
      "source": [
        "<a href=\"https://colab.research.google.com/github/WHU-Peter/COMP6200-Project/blob/main/Learnable_Look_up_Table_Block.ipynb\" target=\"_parent\"><img src=\"https://colab.research.google.com/assets/colab-badge.svg\" alt=\"Open In Colab\"/></a>"
      ]
    },
    {
      "cell_type": "code",
      "metadata": {
        "id": "JBZ482Wdcj1A"
      },
      "source": [
        "import torch\n",
        "import torch.nn as nn"
      ],
      "execution_count": null,
      "outputs": []
    },
    {
      "cell_type": "code",
      "metadata": {
        "id": "uPCSZLkVborC"
      },
      "source": [
        "class LearnableLookUpTable(nn.Module):\n",
        "    def __init__(self, num_embeddings: int, embedding_dim: int, init_temperature: float):\n",
        "        super(LearnableLookUpTable, self).__init__()\n",
        "        self.emb = nn.Embedding(num_embeddings, embedding_dim)\n",
        "        self.temperature = nn.Parameter(torch.tensor(init_temperature, requires_grad=True))\n",
        "\n",
        "    def forward(self, x):\n",
        "        if self.training:\n",
        "          x = self.softmax_temperature(x, self.temperature)\n",
        "          return x @ self.emb.weight\n",
        "        else:\n",
        "          x = self.softmax_temperature(x, 0.0001)\n",
        "          x = x @ torch.LongTensor(range(0, x.shape[1]))\n",
        "          return self.emb(x)\n",
        "\n",
        "    def softmax_temperature(self, logits, temperature):\n",
        "      pro = F.softmax(logits / temperature, dim=-1)\n",
        "      return pro;"
      ],
      "execution_count": null,
      "outputs": []
    }
  ]
}